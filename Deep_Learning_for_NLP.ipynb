{
  "nbformat": 4,
  "nbformat_minor": 0,
  "metadata": {
    "colab": {
      "name": "Copy of Deep Learning for NLP.ipynb",
      "provenance": [],
      "collapsed_sections": [
        "S17mlniR-cS1",
        "GlwqMD4TtSfz",
        "Rpw2aH1dRUwq",
        "3hdUQZ92tc4D",
        "YDhJ8JcFvF4J",
        "3pfNJKstwvjR",
        "w0Asl9BBG0hE"
      ],
      "toc_visible": true,
      "machine_shape": "hm"
    },
    "kernelspec": {
      "name": "python3",
      "display_name": "Python 3"
    },
    "accelerator": "GPU",
    "widgets": {
      "application/vnd.jupyter.widget-state+json": {
        "93201db070db40f99e24764bc5e202d8": {
          "model_module": "@jupyter-widgets/controls",
          "model_name": "HBoxModel",
          "state": {
            "_view_name": "HBoxView",
            "_dom_classes": [],
            "_model_name": "HBoxModel",
            "_view_module": "@jupyter-widgets/controls",
            "_model_module_version": "1.5.0",
            "_view_count": null,
            "_view_module_version": "1.5.0",
            "box_style": "",
            "layout": "IPY_MODEL_e8ef57623e56485b870db97752fd243d",
            "_model_module": "@jupyter-widgets/controls",
            "children": [
              "IPY_MODEL_f97c8bebd18043e6b98ef5253a06114e",
              "IPY_MODEL_9798d7d7747d49ada34b52f74b10b054"
            ]
          }
        },
        "e8ef57623e56485b870db97752fd243d": {
          "model_module": "@jupyter-widgets/base",
          "model_name": "LayoutModel",
          "state": {
            "_view_name": "LayoutView",
            "grid_template_rows": null,
            "right": null,
            "justify_content": null,
            "_view_module": "@jupyter-widgets/base",
            "overflow": null,
            "_model_module_version": "1.2.0",
            "_view_count": null,
            "flex_flow": null,
            "width": null,
            "min_width": null,
            "border": null,
            "align_items": null,
            "bottom": null,
            "_model_module": "@jupyter-widgets/base",
            "top": null,
            "grid_column": null,
            "overflow_y": null,
            "overflow_x": null,
            "grid_auto_flow": null,
            "grid_area": null,
            "grid_template_columns": null,
            "flex": null,
            "_model_name": "LayoutModel",
            "justify_items": null,
            "grid_row": null,
            "max_height": null,
            "align_content": null,
            "visibility": null,
            "align_self": null,
            "height": null,
            "min_height": null,
            "padding": null,
            "grid_auto_rows": null,
            "grid_gap": null,
            "max_width": null,
            "order": null,
            "_view_module_version": "1.2.0",
            "grid_template_areas": null,
            "object_position": null,
            "object_fit": null,
            "grid_auto_columns": null,
            "margin": null,
            "display": null,
            "left": null
          }
        },
        "f97c8bebd18043e6b98ef5253a06114e": {
          "model_module": "@jupyter-widgets/controls",
          "model_name": "IntProgressModel",
          "state": {
            "_view_name": "ProgressView",
            "style": "IPY_MODEL_0c4bdb5c52dd494688a993abac7ca598",
            "_dom_classes": [],
            "description": "Downloading",
            "_model_name": "IntProgressModel",
            "bar_style": "success",
            "max": 231508,
            "_view_module": "@jupyter-widgets/controls",
            "_model_module_version": "1.5.0",
            "value": 231508,
            "_view_count": null,
            "_view_module_version": "1.5.0",
            "orientation": "horizontal",
            "min": 0,
            "description_tooltip": null,
            "_model_module": "@jupyter-widgets/controls",
            "layout": "IPY_MODEL_5419c1e351f14d8084a1c893bfc4a9c7"
          }
        },
        "9798d7d7747d49ada34b52f74b10b054": {
          "model_module": "@jupyter-widgets/controls",
          "model_name": "HTMLModel",
          "state": {
            "_view_name": "HTMLView",
            "style": "IPY_MODEL_e612d1bd097b4b10943662e24c06ccdc",
            "_dom_classes": [],
            "description": "",
            "_model_name": "HTMLModel",
            "placeholder": "​",
            "_view_module": "@jupyter-widgets/controls",
            "_model_module_version": "1.5.0",
            "value": "100% 232k/232k [00:00&lt;00:00, 413kB/s]",
            "_view_count": null,
            "_view_module_version": "1.5.0",
            "description_tooltip": null,
            "_model_module": "@jupyter-widgets/controls",
            "layout": "IPY_MODEL_423b7306cf044754a3b3de8706debe5a"
          }
        },
        "0c4bdb5c52dd494688a993abac7ca598": {
          "model_module": "@jupyter-widgets/controls",
          "model_name": "ProgressStyleModel",
          "state": {
            "_view_name": "StyleView",
            "_model_name": "ProgressStyleModel",
            "description_width": "initial",
            "_view_module": "@jupyter-widgets/base",
            "_model_module_version": "1.5.0",
            "_view_count": null,
            "_view_module_version": "1.2.0",
            "bar_color": null,
            "_model_module": "@jupyter-widgets/controls"
          }
        },
        "5419c1e351f14d8084a1c893bfc4a9c7": {
          "model_module": "@jupyter-widgets/base",
          "model_name": "LayoutModel",
          "state": {
            "_view_name": "LayoutView",
            "grid_template_rows": null,
            "right": null,
            "justify_content": null,
            "_view_module": "@jupyter-widgets/base",
            "overflow": null,
            "_model_module_version": "1.2.0",
            "_view_count": null,
            "flex_flow": null,
            "width": null,
            "min_width": null,
            "border": null,
            "align_items": null,
            "bottom": null,
            "_model_module": "@jupyter-widgets/base",
            "top": null,
            "grid_column": null,
            "overflow_y": null,
            "overflow_x": null,
            "grid_auto_flow": null,
            "grid_area": null,
            "grid_template_columns": null,
            "flex": null,
            "_model_name": "LayoutModel",
            "justify_items": null,
            "grid_row": null,
            "max_height": null,
            "align_content": null,
            "visibility": null,
            "align_self": null,
            "height": null,
            "min_height": null,
            "padding": null,
            "grid_auto_rows": null,
            "grid_gap": null,
            "max_width": null,
            "order": null,
            "_view_module_version": "1.2.0",
            "grid_template_areas": null,
            "object_position": null,
            "object_fit": null,
            "grid_auto_columns": null,
            "margin": null,
            "display": null,
            "left": null
          }
        },
        "e612d1bd097b4b10943662e24c06ccdc": {
          "model_module": "@jupyter-widgets/controls",
          "model_name": "DescriptionStyleModel",
          "state": {
            "_view_name": "StyleView",
            "_model_name": "DescriptionStyleModel",
            "description_width": "",
            "_view_module": "@jupyter-widgets/base",
            "_model_module_version": "1.5.0",
            "_view_count": null,
            "_view_module_version": "1.2.0",
            "_model_module": "@jupyter-widgets/controls"
          }
        },
        "423b7306cf044754a3b3de8706debe5a": {
          "model_module": "@jupyter-widgets/base",
          "model_name": "LayoutModel",
          "state": {
            "_view_name": "LayoutView",
            "grid_template_rows": null,
            "right": null,
            "justify_content": null,
            "_view_module": "@jupyter-widgets/base",
            "overflow": null,
            "_model_module_version": "1.2.0",
            "_view_count": null,
            "flex_flow": null,
            "width": null,
            "min_width": null,
            "border": null,
            "align_items": null,
            "bottom": null,
            "_model_module": "@jupyter-widgets/base",
            "top": null,
            "grid_column": null,
            "overflow_y": null,
            "overflow_x": null,
            "grid_auto_flow": null,
            "grid_area": null,
            "grid_template_columns": null,
            "flex": null,
            "_model_name": "LayoutModel",
            "justify_items": null,
            "grid_row": null,
            "max_height": null,
            "align_content": null,
            "visibility": null,
            "align_self": null,
            "height": null,
            "min_height": null,
            "padding": null,
            "grid_auto_rows": null,
            "grid_gap": null,
            "max_width": null,
            "order": null,
            "_view_module_version": "1.2.0",
            "grid_template_areas": null,
            "object_position": null,
            "object_fit": null,
            "grid_auto_columns": null,
            "margin": null,
            "display": null,
            "left": null
          }
        },
        "7e40b67ddfe14c68885054b871bdf143": {
          "model_module": "@jupyter-widgets/controls",
          "model_name": "HBoxModel",
          "state": {
            "_view_name": "HBoxView",
            "_dom_classes": [],
            "_model_name": "HBoxModel",
            "_view_module": "@jupyter-widgets/controls",
            "_model_module_version": "1.5.0",
            "_view_count": null,
            "_view_module_version": "1.5.0",
            "box_style": "",
            "layout": "IPY_MODEL_13e72457bfda42cbb30653d03272c95e",
            "_model_module": "@jupyter-widgets/controls",
            "children": [
              "IPY_MODEL_d5110c2231e845ce94a961b0efd87409",
              "IPY_MODEL_aaedc340fb6e473bb4f214c86375b580"
            ]
          }
        },
        "13e72457bfda42cbb30653d03272c95e": {
          "model_module": "@jupyter-widgets/base",
          "model_name": "LayoutModel",
          "state": {
            "_view_name": "LayoutView",
            "grid_template_rows": null,
            "right": null,
            "justify_content": null,
            "_view_module": "@jupyter-widgets/base",
            "overflow": null,
            "_model_module_version": "1.2.0",
            "_view_count": null,
            "flex_flow": null,
            "width": null,
            "min_width": null,
            "border": null,
            "align_items": null,
            "bottom": null,
            "_model_module": "@jupyter-widgets/base",
            "top": null,
            "grid_column": null,
            "overflow_y": null,
            "overflow_x": null,
            "grid_auto_flow": null,
            "grid_area": null,
            "grid_template_columns": null,
            "flex": null,
            "_model_name": "LayoutModel",
            "justify_items": null,
            "grid_row": null,
            "max_height": null,
            "align_content": null,
            "visibility": null,
            "align_self": null,
            "height": null,
            "min_height": null,
            "padding": null,
            "grid_auto_rows": null,
            "grid_gap": null,
            "max_width": null,
            "order": null,
            "_view_module_version": "1.2.0",
            "grid_template_areas": null,
            "object_position": null,
            "object_fit": null,
            "grid_auto_columns": null,
            "margin": null,
            "display": null,
            "left": null
          }
        },
        "d5110c2231e845ce94a961b0efd87409": {
          "model_module": "@jupyter-widgets/controls",
          "model_name": "IntProgressModel",
          "state": {
            "_view_name": "ProgressView",
            "style": "IPY_MODEL_ad2d1a9580eb4aa69c2fa7551991445f",
            "_dom_classes": [],
            "description": "Downloading",
            "_model_name": "IntProgressModel",
            "bar_style": "success",
            "max": 546,
            "_view_module": "@jupyter-widgets/controls",
            "_model_module_version": "1.5.0",
            "value": 546,
            "_view_count": null,
            "_view_module_version": "1.5.0",
            "orientation": "horizontal",
            "min": 0,
            "description_tooltip": null,
            "_model_module": "@jupyter-widgets/controls",
            "layout": "IPY_MODEL_142a62f946284af480ebe1fc8e6700c3"
          }
        },
        "aaedc340fb6e473bb4f214c86375b580": {
          "model_module": "@jupyter-widgets/controls",
          "model_name": "HTMLModel",
          "state": {
            "_view_name": "HTMLView",
            "style": "IPY_MODEL_12de9c26deb746b89f22aaa00aa8d6b9",
            "_dom_classes": [],
            "description": "",
            "_model_name": "HTMLModel",
            "placeholder": "​",
            "_view_module": "@jupyter-widgets/controls",
            "_model_module_version": "1.5.0",
            "value": "100% 546/546 [00:00&lt;00:00, 25.1kB/s]",
            "_view_count": null,
            "_view_module_version": "1.5.0",
            "description_tooltip": null,
            "_model_module": "@jupyter-widgets/controls",
            "layout": "IPY_MODEL_1ca14045e7f84dd7a0076fb7b73002f5"
          }
        },
        "ad2d1a9580eb4aa69c2fa7551991445f": {
          "model_module": "@jupyter-widgets/controls",
          "model_name": "ProgressStyleModel",
          "state": {
            "_view_name": "StyleView",
            "_model_name": "ProgressStyleModel",
            "description_width": "initial",
            "_view_module": "@jupyter-widgets/base",
            "_model_module_version": "1.5.0",
            "_view_count": null,
            "_view_module_version": "1.2.0",
            "bar_color": null,
            "_model_module": "@jupyter-widgets/controls"
          }
        },
        "142a62f946284af480ebe1fc8e6700c3": {
          "model_module": "@jupyter-widgets/base",
          "model_name": "LayoutModel",
          "state": {
            "_view_name": "LayoutView",
            "grid_template_rows": null,
            "right": null,
            "justify_content": null,
            "_view_module": "@jupyter-widgets/base",
            "overflow": null,
            "_model_module_version": "1.2.0",
            "_view_count": null,
            "flex_flow": null,
            "width": null,
            "min_width": null,
            "border": null,
            "align_items": null,
            "bottom": null,
            "_model_module": "@jupyter-widgets/base",
            "top": null,
            "grid_column": null,
            "overflow_y": null,
            "overflow_x": null,
            "grid_auto_flow": null,
            "grid_area": null,
            "grid_template_columns": null,
            "flex": null,
            "_model_name": "LayoutModel",
            "justify_items": null,
            "grid_row": null,
            "max_height": null,
            "align_content": null,
            "visibility": null,
            "align_self": null,
            "height": null,
            "min_height": null,
            "padding": null,
            "grid_auto_rows": null,
            "grid_gap": null,
            "max_width": null,
            "order": null,
            "_view_module_version": "1.2.0",
            "grid_template_areas": null,
            "object_position": null,
            "object_fit": null,
            "grid_auto_columns": null,
            "margin": null,
            "display": null,
            "left": null
          }
        },
        "12de9c26deb746b89f22aaa00aa8d6b9": {
          "model_module": "@jupyter-widgets/controls",
          "model_name": "DescriptionStyleModel",
          "state": {
            "_view_name": "StyleView",
            "_model_name": "DescriptionStyleModel",
            "description_width": "",
            "_view_module": "@jupyter-widgets/base",
            "_model_module_version": "1.5.0",
            "_view_count": null,
            "_view_module_version": "1.2.0",
            "_model_module": "@jupyter-widgets/controls"
          }
        },
        "1ca14045e7f84dd7a0076fb7b73002f5": {
          "model_module": "@jupyter-widgets/base",
          "model_name": "LayoutModel",
          "state": {
            "_view_name": "LayoutView",
            "grid_template_rows": null,
            "right": null,
            "justify_content": null,
            "_view_module": "@jupyter-widgets/base",
            "overflow": null,
            "_model_module_version": "1.2.0",
            "_view_count": null,
            "flex_flow": null,
            "width": null,
            "min_width": null,
            "border": null,
            "align_items": null,
            "bottom": null,
            "_model_module": "@jupyter-widgets/base",
            "top": null,
            "grid_column": null,
            "overflow_y": null,
            "overflow_x": null,
            "grid_auto_flow": null,
            "grid_area": null,
            "grid_template_columns": null,
            "flex": null,
            "_model_name": "LayoutModel",
            "justify_items": null,
            "grid_row": null,
            "max_height": null,
            "align_content": null,
            "visibility": null,
            "align_self": null,
            "height": null,
            "min_height": null,
            "padding": null,
            "grid_auto_rows": null,
            "grid_gap": null,
            "max_width": null,
            "order": null,
            "_view_module_version": "1.2.0",
            "grid_template_areas": null,
            "object_position": null,
            "object_fit": null,
            "grid_auto_columns": null,
            "margin": null,
            "display": null,
            "left": null
          }
        },
        "f0ac54a2580c46b393a5d34a65a586c0": {
          "model_module": "@jupyter-widgets/controls",
          "model_name": "HBoxModel",
          "state": {
            "_view_name": "HBoxView",
            "_dom_classes": [],
            "_model_name": "HBoxModel",
            "_view_module": "@jupyter-widgets/controls",
            "_model_module_version": "1.5.0",
            "_view_count": null,
            "_view_module_version": "1.5.0",
            "box_style": "",
            "layout": "IPY_MODEL_83994984d6a846e284b9ea9a830141b4",
            "_model_module": "@jupyter-widgets/controls",
            "children": [
              "IPY_MODEL_5d9f98b0a95c497bb1ffff2fca5d5271",
              "IPY_MODEL_245a3ed31b24409e9c2c73f0a9dfd28d"
            ]
          }
        },
        "83994984d6a846e284b9ea9a830141b4": {
          "model_module": "@jupyter-widgets/base",
          "model_name": "LayoutModel",
          "state": {
            "_view_name": "LayoutView",
            "grid_template_rows": null,
            "right": null,
            "justify_content": null,
            "_view_module": "@jupyter-widgets/base",
            "overflow": null,
            "_model_module_version": "1.2.0",
            "_view_count": null,
            "flex_flow": null,
            "width": null,
            "min_width": null,
            "border": null,
            "align_items": null,
            "bottom": null,
            "_model_module": "@jupyter-widgets/base",
            "top": null,
            "grid_column": null,
            "overflow_y": null,
            "overflow_x": null,
            "grid_auto_flow": null,
            "grid_area": null,
            "grid_template_columns": null,
            "flex": null,
            "_model_name": "LayoutModel",
            "justify_items": null,
            "grid_row": null,
            "max_height": null,
            "align_content": null,
            "visibility": null,
            "align_self": null,
            "height": null,
            "min_height": null,
            "padding": null,
            "grid_auto_rows": null,
            "grid_gap": null,
            "max_width": null,
            "order": null,
            "_view_module_version": "1.2.0",
            "grid_template_areas": null,
            "object_position": null,
            "object_fit": null,
            "grid_auto_columns": null,
            "margin": null,
            "display": null,
            "left": null
          }
        },
        "5d9f98b0a95c497bb1ffff2fca5d5271": {
          "model_module": "@jupyter-widgets/controls",
          "model_name": "IntProgressModel",
          "state": {
            "_view_name": "ProgressView",
            "style": "IPY_MODEL_aa1a984f0d1f4049b70f68be67dd9646",
            "_dom_classes": [],
            "description": "Downloading",
            "_model_name": "IntProgressModel",
            "bar_style": "success",
            "max": 267967963,
            "_view_module": "@jupyter-widgets/controls",
            "_model_module_version": "1.5.0",
            "value": 267967963,
            "_view_count": null,
            "_view_module_version": "1.5.0",
            "orientation": "horizontal",
            "min": 0,
            "description_tooltip": null,
            "_model_module": "@jupyter-widgets/controls",
            "layout": "IPY_MODEL_9deddca5adf94cfca6a0cea38ed03480"
          }
        },
        "245a3ed31b24409e9c2c73f0a9dfd28d": {
          "model_module": "@jupyter-widgets/controls",
          "model_name": "HTMLModel",
          "state": {
            "_view_name": "HTMLView",
            "style": "IPY_MODEL_befde13434924515a9e541a86a54381a",
            "_dom_classes": [],
            "description": "",
            "_model_name": "HTMLModel",
            "placeholder": "​",
            "_view_module": "@jupyter-widgets/controls",
            "_model_module_version": "1.5.0",
            "value": "100% 268M/268M [00:23&lt;00:00, 11.3MB/s]",
            "_view_count": null,
            "_view_module_version": "1.5.0",
            "description_tooltip": null,
            "_model_module": "@jupyter-widgets/controls",
            "layout": "IPY_MODEL_114409ef2dc94c9d942e154bb9768ce6"
          }
        },
        "aa1a984f0d1f4049b70f68be67dd9646": {
          "model_module": "@jupyter-widgets/controls",
          "model_name": "ProgressStyleModel",
          "state": {
            "_view_name": "StyleView",
            "_model_name": "ProgressStyleModel",
            "description_width": "initial",
            "_view_module": "@jupyter-widgets/base",
            "_model_module_version": "1.5.0",
            "_view_count": null,
            "_view_module_version": "1.2.0",
            "bar_color": null,
            "_model_module": "@jupyter-widgets/controls"
          }
        },
        "9deddca5adf94cfca6a0cea38ed03480": {
          "model_module": "@jupyter-widgets/base",
          "model_name": "LayoutModel",
          "state": {
            "_view_name": "LayoutView",
            "grid_template_rows": null,
            "right": null,
            "justify_content": null,
            "_view_module": "@jupyter-widgets/base",
            "overflow": null,
            "_model_module_version": "1.2.0",
            "_view_count": null,
            "flex_flow": null,
            "width": null,
            "min_width": null,
            "border": null,
            "align_items": null,
            "bottom": null,
            "_model_module": "@jupyter-widgets/base",
            "top": null,
            "grid_column": null,
            "overflow_y": null,
            "overflow_x": null,
            "grid_auto_flow": null,
            "grid_area": null,
            "grid_template_columns": null,
            "flex": null,
            "_model_name": "LayoutModel",
            "justify_items": null,
            "grid_row": null,
            "max_height": null,
            "align_content": null,
            "visibility": null,
            "align_self": null,
            "height": null,
            "min_height": null,
            "padding": null,
            "grid_auto_rows": null,
            "grid_gap": null,
            "max_width": null,
            "order": null,
            "_view_module_version": "1.2.0",
            "grid_template_areas": null,
            "object_position": null,
            "object_fit": null,
            "grid_auto_columns": null,
            "margin": null,
            "display": null,
            "left": null
          }
        },
        "befde13434924515a9e541a86a54381a": {
          "model_module": "@jupyter-widgets/controls",
          "model_name": "DescriptionStyleModel",
          "state": {
            "_view_name": "StyleView",
            "_model_name": "DescriptionStyleModel",
            "description_width": "",
            "_view_module": "@jupyter-widgets/base",
            "_model_module_version": "1.5.0",
            "_view_count": null,
            "_view_module_version": "1.2.0",
            "_model_module": "@jupyter-widgets/controls"
          }
        },
        "114409ef2dc94c9d942e154bb9768ce6": {
          "model_module": "@jupyter-widgets/base",
          "model_name": "LayoutModel",
          "state": {
            "_view_name": "LayoutView",
            "grid_template_rows": null,
            "right": null,
            "justify_content": null,
            "_view_module": "@jupyter-widgets/base",
            "overflow": null,
            "_model_module_version": "1.2.0",
            "_view_count": null,
            "flex_flow": null,
            "width": null,
            "min_width": null,
            "border": null,
            "align_items": null,
            "bottom": null,
            "_model_module": "@jupyter-widgets/base",
            "top": null,
            "grid_column": null,
            "overflow_y": null,
            "overflow_x": null,
            "grid_auto_flow": null,
            "grid_area": null,
            "grid_template_columns": null,
            "flex": null,
            "_model_name": "LayoutModel",
            "justify_items": null,
            "grid_row": null,
            "max_height": null,
            "align_content": null,
            "visibility": null,
            "align_self": null,
            "height": null,
            "min_height": null,
            "padding": null,
            "grid_auto_rows": null,
            "grid_gap": null,
            "max_width": null,
            "order": null,
            "_view_module_version": "1.2.0",
            "grid_template_areas": null,
            "object_position": null,
            "object_fit": null,
            "grid_auto_columns": null,
            "margin": null,
            "display": null,
            "left": null
          }
        }
      }
    }
  },
  "cells": [
    {
      "cell_type": "markdown",
      "metadata": {
        "id": "_jSXkbKEPhre",
        "colab_type": "text"
      },
      "source": [
        "# Deep Learning for NLP"
      ]
    },
    {
      "cell_type": "markdown",
      "metadata": {
        "id": "94ezOFUz4aZM",
        "colab_type": "text"
      },
      "source": [
        "Silakan download file di bawah ini terlebih dahulu. Ukuran sekitar 800MB."
      ]
    },
    {
      "cell_type": "code",
      "metadata": {
        "id": "YBv6dtbk4GJF",
        "colab_type": "code",
        "outputId": "8ad378ef-06ce-477b-bff5-51e8a4fd444f",
        "colab": {
          "base_uri": "https://localhost:8080/",
          "height": 442
        }
      },
      "source": [
        "!wget http://nlp.stanford.edu/data/glove.6B.zip\n",
        "!unzip glove*.zip"
      ],
      "execution_count": 0,
      "outputs": [
        {
          "output_type": "stream",
          "text": [
            "--2020-03-09 07:33:58--  http://nlp.stanford.edu/data/glove.6B.zip\n",
            "Resolving nlp.stanford.edu (nlp.stanford.edu)... 171.64.67.140\n",
            "Connecting to nlp.stanford.edu (nlp.stanford.edu)|171.64.67.140|:80... connected.\n",
            "HTTP request sent, awaiting response... 302 Found\n",
            "Location: https://nlp.stanford.edu/data/glove.6B.zip [following]\n",
            "--2020-03-09 07:33:58--  https://nlp.stanford.edu/data/glove.6B.zip\n",
            "Connecting to nlp.stanford.edu (nlp.stanford.edu)|171.64.67.140|:443... connected.\n",
            "HTTP request sent, awaiting response... 301 Moved Permanently\n",
            "Location: http://downloads.cs.stanford.edu/nlp/data/glove.6B.zip [following]\n",
            "--2020-03-09 07:33:59--  http://downloads.cs.stanford.edu/nlp/data/glove.6B.zip\n",
            "Resolving downloads.cs.stanford.edu (downloads.cs.stanford.edu)... 171.64.64.22\n",
            "Connecting to downloads.cs.stanford.edu (downloads.cs.stanford.edu)|171.64.64.22|:80... connected.\n",
            "HTTP request sent, awaiting response... 200 OK\n",
            "Length: 862182613 (822M) [application/zip]\n",
            "Saving to: ‘glove.6B.zip’\n",
            "\n",
            "glove.6B.zip        100%[===================>] 822.24M  2.19MB/s    in 6m 29s  \n",
            "\n",
            "2020-03-09 07:40:28 (2.11 MB/s) - ‘glove.6B.zip’ saved [862182613/862182613]\n",
            "\n",
            "Archive:  glove.6B.zip\n",
            "  inflating: glove.6B.50d.txt        \n",
            "  inflating: glove.6B.100d.txt       \n",
            "  inflating: glove.6B.200d.txt       \n",
            "  inflating: glove.6B.300d.txt       \n"
          ],
          "name": "stdout"
        }
      ]
    },
    {
      "cell_type": "markdown",
      "metadata": {
        "id": "S17mlniR-cS1",
        "colab_type": "text"
      },
      "source": [
        "## Training Word2Vec"
      ]
    },
    {
      "cell_type": "markdown",
      "metadata": {
        "id": "phAZwxNB4uI1",
        "colab_type": "text"
      },
      "source": [
        "Import library yang dibutuhkan."
      ]
    },
    {
      "cell_type": "code",
      "metadata": {
        "id": "zj0VpY6cPyQP",
        "colab_type": "code",
        "colab": {}
      },
      "source": [
        "import re, string \n",
        "import pandas as pd \n",
        "from time import time  \n",
        "from collections import defaultdict\n",
        "import spacy\n",
        "from sklearn.manifold import TSNE\n",
        "import nltk\n",
        "from nltk.corpus import stopwords\n",
        "from gensim.models import Word2Vec\n",
        "from matplotlib import pyplot as plt\n",
        "%matplotlib inline"
      ],
      "execution_count": 0,
      "outputs": []
    },
    {
      "cell_type": "markdown",
      "metadata": {
        "id": "zJFPZtru46dt",
        "colab_type": "text"
      },
      "source": [
        "Download stopwords yang disediakan oleh NLTK. "
      ]
    },
    {
      "cell_type": "code",
      "metadata": {
        "id": "GZrK4XiUSI2e",
        "colab_type": "code",
        "outputId": "5db0c0b6-da5f-42ba-cccd-5f8e26b71bd2",
        "colab": {
          "base_uri": "https://localhost:8080/",
          "height": 68
        }
      },
      "source": [
        "nltk.download('stopwords')"
      ],
      "execution_count": 0,
      "outputs": [
        {
          "output_type": "stream",
          "text": [
            "[nltk_data] Downloading package stopwords to /root/nltk_data...\n",
            "[nltk_data]   Package stopwords is already up-to-date!\n"
          ],
          "name": "stdout"
        },
        {
          "output_type": "execute_result",
          "data": {
            "text/plain": [
              "True"
            ]
          },
          "metadata": {
            "tags": []
          },
          "execution_count": 18
        }
      ]
    },
    {
      "cell_type": "markdown",
      "metadata": {
        "id": "tfT0Sex_6CaF",
        "colab_type": "text"
      },
      "source": [
        "Saat ini tersedia stopwords untuk 23 bahasa (mungkin bertambah)."
      ]
    },
    {
      "cell_type": "code",
      "metadata": {
        "id": "VIPqLC2r5xct",
        "colab_type": "code",
        "outputId": "860004de-289e-4349-e8bf-05aa73fcbdaa",
        "colab": {
          "base_uri": "https://localhost:8080/",
          "height": 54
        }
      },
      "source": [
        "print(stopwords.fileids())"
      ],
      "execution_count": 0,
      "outputs": [
        {
          "output_type": "stream",
          "text": [
            "['arabic', 'azerbaijani', 'danish', 'dutch', 'english', 'finnish', 'french', 'german', 'greek', 'hungarian', 'indonesian', 'italian', 'kazakh', 'nepali', 'norwegian', 'portuguese', 'romanian', 'russian', 'slovene', 'spanish', 'swedish', 'tajik', 'turkish']\n"
          ],
          "name": "stdout"
        }
      ]
    },
    {
      "cell_type": "code",
      "metadata": {
        "id": "NLIApmc1SXEF",
        "colab_type": "code",
        "colab": {}
      },
      "source": [
        "STOPWORDS = set(stopwords.words('english'))"
      ],
      "execution_count": 0,
      "outputs": []
    },
    {
      "cell_type": "markdown",
      "metadata": {
        "id": "RZ45Tcn9-S54",
        "colab_type": "text"
      },
      "source": [
        "Download dataset bbc news."
      ]
    },
    {
      "cell_type": "code",
      "metadata": {
        "id": "HRWkdBYfRSgh",
        "colab_type": "code",
        "colab": {}
      },
      "source": [
        "url = \"https://storage.googleapis.com/dataset-uploader/bbc/bbc-text.csv\"\n",
        "df = pd.read_csv(url)"
      ],
      "execution_count": 0,
      "outputs": []
    },
    {
      "cell_type": "markdown",
      "metadata": {
        "id": "zZ1Ckrgg-jyA",
        "colab_type": "text"
      },
      "source": [
        "Cek jumlah artikel yang merupakan jumlah baris pada dataframe (`df`)."
      ]
    },
    {
      "cell_type": "code",
      "metadata": {
        "id": "dh3XqD-ecUVP",
        "colab_type": "code",
        "outputId": "0d703923-19b1-4d78-a4ad-ae79f44ba766",
        "colab": {
          "base_uri": "https://localhost:8080/",
          "height": 34
        }
      },
      "source": [
        "len(df)"
      ],
      "execution_count": 0,
      "outputs": [
        {
          "output_type": "execute_result",
          "data": {
            "text/plain": [
              "2225"
            ]
          },
          "metadata": {
            "tags": []
          },
          "execution_count": 22
        }
      ]
    },
    {
      "cell_type": "code",
      "metadata": {
        "id": "RtXjTz65RW7T",
        "colab_type": "code",
        "outputId": "60991033-5d29-40a5-befb-402badb1d4ee",
        "colab": {
          "base_uri": "https://localhost:8080/",
          "height": 204
        }
      },
      "source": [
        "df.head()"
      ],
      "execution_count": 0,
      "outputs": [
        {
          "output_type": "execute_result",
          "data": {
            "text/html": [
              "<div>\n",
              "<style scoped>\n",
              "    .dataframe tbody tr th:only-of-type {\n",
              "        vertical-align: middle;\n",
              "    }\n",
              "\n",
              "    .dataframe tbody tr th {\n",
              "        vertical-align: top;\n",
              "    }\n",
              "\n",
              "    .dataframe thead th {\n",
              "        text-align: right;\n",
              "    }\n",
              "</style>\n",
              "<table border=\"1\" class=\"dataframe\">\n",
              "  <thead>\n",
              "    <tr style=\"text-align: right;\">\n",
              "      <th></th>\n",
              "      <th>category</th>\n",
              "      <th>text</th>\n",
              "    </tr>\n",
              "  </thead>\n",
              "  <tbody>\n",
              "    <tr>\n",
              "      <th>0</th>\n",
              "      <td>tech</td>\n",
              "      <td>tv future in the hands of viewers with home th...</td>\n",
              "    </tr>\n",
              "    <tr>\n",
              "      <th>1</th>\n",
              "      <td>business</td>\n",
              "      <td>worldcom boss  left books alone  former worldc...</td>\n",
              "    </tr>\n",
              "    <tr>\n",
              "      <th>2</th>\n",
              "      <td>sport</td>\n",
              "      <td>tigers wary of farrell  gamble  leicester say ...</td>\n",
              "    </tr>\n",
              "    <tr>\n",
              "      <th>3</th>\n",
              "      <td>sport</td>\n",
              "      <td>yeading face newcastle in fa cup premiership s...</td>\n",
              "    </tr>\n",
              "    <tr>\n",
              "      <th>4</th>\n",
              "      <td>entertainment</td>\n",
              "      <td>ocean s twelve raids box office ocean s twelve...</td>\n",
              "    </tr>\n",
              "  </tbody>\n",
              "</table>\n",
              "</div>"
            ],
            "text/plain": [
              "        category                                               text\n",
              "0           tech  tv future in the hands of viewers with home th...\n",
              "1       business  worldcom boss  left books alone  former worldc...\n",
              "2          sport  tigers wary of farrell  gamble  leicester say ...\n",
              "3          sport  yeading face newcastle in fa cup premiership s...\n",
              "4  entertainment  ocean s twelve raids box office ocean s twelve..."
            ]
          },
          "metadata": {
            "tags": []
          },
          "execution_count": 23
        }
      ]
    },
    {
      "cell_type": "markdown",
      "metadata": {
        "id": "2Obq0qUC-6VQ",
        "colab_type": "text"
      },
      "source": [
        "Bersihkan data, dan hilangkan stopwords."
      ]
    },
    {
      "cell_type": "code",
      "metadata": {
        "id": "BSGExrl9RaEd",
        "colab_type": "code",
        "colab": {}
      },
      "source": [
        "def clean_text(text):\n",
        "    '''Make text lowercase, remove text in square brackets, remove punctuation and remove words containing numbers.'''\n",
        "    text = text.lower()\n",
        "    text = re.sub(r'\\[.*?\\]', '', text)\n",
        "    text = re.sub(r'[%s]' % re.escape(string.punctuation), '', text)\n",
        "    text = re.sub(r'\\w*\\d\\w*', '', text)\n",
        "    # Remove a sentence if it is only one word long\n",
        "    if len(text) > 2:\n",
        "        return ' '.join(word for word in text.split() if word not in STOPWORDS)\n",
        "\n",
        "df_clean = df.copy()\n",
        "df_clean['text'] = pd.DataFrame(df.text.apply(lambda x: clean_text(x)))"
      ],
      "execution_count": 0,
      "outputs": []
    },
    {
      "cell_type": "code",
      "metadata": {
        "id": "GB3lm9UzSjr3",
        "colab_type": "code",
        "outputId": "bf9577fb-2570-466d-bcd6-b50bb95a4e61",
        "colab": {
          "base_uri": "https://localhost:8080/",
          "height": 204
        }
      },
      "source": [
        "df_clean.head()"
      ],
      "execution_count": 0,
      "outputs": [
        {
          "output_type": "execute_result",
          "data": {
            "text/html": [
              "<div>\n",
              "<style scoped>\n",
              "    .dataframe tbody tr th:only-of-type {\n",
              "        vertical-align: middle;\n",
              "    }\n",
              "\n",
              "    .dataframe tbody tr th {\n",
              "        vertical-align: top;\n",
              "    }\n",
              "\n",
              "    .dataframe thead th {\n",
              "        text-align: right;\n",
              "    }\n",
              "</style>\n",
              "<table border=\"1\" class=\"dataframe\">\n",
              "  <thead>\n",
              "    <tr style=\"text-align: right;\">\n",
              "      <th></th>\n",
              "      <th>category</th>\n",
              "      <th>text</th>\n",
              "    </tr>\n",
              "  </thead>\n",
              "  <tbody>\n",
              "    <tr>\n",
              "      <th>0</th>\n",
              "      <td>tech</td>\n",
              "      <td>tv future hands viewers home theatre systems p...</td>\n",
              "    </tr>\n",
              "    <tr>\n",
              "      <th>1</th>\n",
              "      <td>business</td>\n",
              "      <td>worldcom boss left books alone former worldcom...</td>\n",
              "    </tr>\n",
              "    <tr>\n",
              "      <th>2</th>\n",
              "      <td>sport</td>\n",
              "      <td>tigers wary farrell gamble leicester say rushe...</td>\n",
              "    </tr>\n",
              "    <tr>\n",
              "      <th>3</th>\n",
              "      <td>sport</td>\n",
              "      <td>yeading face newcastle fa cup premiership side...</td>\n",
              "    </tr>\n",
              "    <tr>\n",
              "      <th>4</th>\n",
              "      <td>entertainment</td>\n",
              "      <td>ocean twelve raids box office ocean twelve cri...</td>\n",
              "    </tr>\n",
              "  </tbody>\n",
              "</table>\n",
              "</div>"
            ],
            "text/plain": [
              "        category                                               text\n",
              "0           tech  tv future hands viewers home theatre systems p...\n",
              "1       business  worldcom boss left books alone former worldcom...\n",
              "2          sport  tigers wary farrell gamble leicester say rushe...\n",
              "3          sport  yeading face newcastle fa cup premiership side...\n",
              "4  entertainment  ocean twelve raids box office ocean twelve cri..."
            ]
          },
          "metadata": {
            "tags": []
          },
          "execution_count": 25
        }
      ]
    },
    {
      "cell_type": "markdown",
      "metadata": {
        "id": "D1MmXBXi_Bxh",
        "colab_type": "text"
      },
      "source": [
        "Terapkan lematisasi menggunakan library spacy. Cek https://spacy.io/"
      ]
    },
    {
      "cell_type": "code",
      "metadata": {
        "id": "-OlmEOmiSuHv",
        "colab_type": "code",
        "colab": {}
      },
      "source": [
        "nlp = spacy.load('en', disable=['ner', 'parser']) # disabling Named Entity Recognition for speed\n",
        "\n",
        "def lemmatizer(text):        \n",
        "    sent = []\n",
        "    doc = nlp(text)\n",
        "    for word in doc:\n",
        "        sent.append(word.lemma_)\n",
        "    return \" \".join(sent)\n",
        "\n",
        "df_clean[\"text_lemmatize\"] =  df_clean.apply(lambda x: lemmatizer(x['text']), axis=1)"
      ],
      "execution_count": 0,
      "outputs": []
    },
    {
      "cell_type": "code",
      "metadata": {
        "id": "IRxhNetqTK_i",
        "colab_type": "code",
        "outputId": "766718d7-0ab4-46b7-c199-5e9a2a096857",
        "colab": {
          "base_uri": "https://localhost:8080/",
          "height": 204
        }
      },
      "source": [
        "df_clean.head()"
      ],
      "execution_count": 0,
      "outputs": [
        {
          "output_type": "execute_result",
          "data": {
            "text/html": [
              "<div>\n",
              "<style scoped>\n",
              "    .dataframe tbody tr th:only-of-type {\n",
              "        vertical-align: middle;\n",
              "    }\n",
              "\n",
              "    .dataframe tbody tr th {\n",
              "        vertical-align: top;\n",
              "    }\n",
              "\n",
              "    .dataframe thead th {\n",
              "        text-align: right;\n",
              "    }\n",
              "</style>\n",
              "<table border=\"1\" class=\"dataframe\">\n",
              "  <thead>\n",
              "    <tr style=\"text-align: right;\">\n",
              "      <th></th>\n",
              "      <th>category</th>\n",
              "      <th>text</th>\n",
              "      <th>text_lemmatize</th>\n",
              "    </tr>\n",
              "  </thead>\n",
              "  <tbody>\n",
              "    <tr>\n",
              "      <th>0</th>\n",
              "      <td>tech</td>\n",
              "      <td>tv future hands viewers home theatre systems p...</td>\n",
              "      <td>tv future hand viewer home theatre system plas...</td>\n",
              "    </tr>\n",
              "    <tr>\n",
              "      <th>1</th>\n",
              "      <td>business</td>\n",
              "      <td>worldcom boss left books alone former worldcom...</td>\n",
              "      <td>worldcom boss leave book alone former worldcom...</td>\n",
              "    </tr>\n",
              "    <tr>\n",
              "      <th>2</th>\n",
              "      <td>sport</td>\n",
              "      <td>tigers wary farrell gamble leicester say rushe...</td>\n",
              "      <td>tiger wary farrell gamble leicester say rush m...</td>\n",
              "    </tr>\n",
              "    <tr>\n",
              "      <th>3</th>\n",
              "      <td>sport</td>\n",
              "      <td>yeading face newcastle fa cup premiership side...</td>\n",
              "      <td>yeade face newcastle fa cup premiership side n...</td>\n",
              "    </tr>\n",
              "    <tr>\n",
              "      <th>4</th>\n",
              "      <td>entertainment</td>\n",
              "      <td>ocean twelve raids box office ocean twelve cri...</td>\n",
              "      <td>ocean twelve raid box office ocean twelve crim...</td>\n",
              "    </tr>\n",
              "  </tbody>\n",
              "</table>\n",
              "</div>"
            ],
            "text/plain": [
              "        category  ...                                     text_lemmatize\n",
              "0           tech  ...  tv future hand viewer home theatre system plas...\n",
              "1       business  ...  worldcom boss leave book alone former worldcom...\n",
              "2          sport  ...  tiger wary farrell gamble leicester say rush m...\n",
              "3          sport  ...  yeade face newcastle fa cup premiership side n...\n",
              "4  entertainment  ...  ocean twelve raid box office ocean twelve crim...\n",
              "\n",
              "[5 rows x 3 columns]"
            ]
          },
          "metadata": {
            "tags": []
          },
          "execution_count": 27
        }
      ]
    },
    {
      "cell_type": "code",
      "metadata": {
        "id": "gZXJkKZETTAg",
        "colab_type": "code",
        "outputId": "a5774705-b587-4331-b374-2aba62364ee9",
        "colab": {
          "base_uri": "https://localhost:8080/",
          "height": 54
        }
      },
      "source": [
        "df_clean[\"text\"][0]"
      ],
      "execution_count": 0,
      "outputs": [
        {
          "output_type": "execute_result",
          "data": {
            "text/plain": [
              "'tv future hands viewers home theatre systems plasma highdefinition tvs digital video recorders moving living room way people watch tv radically different five years time according expert panel gathered annual consumer electronics show las vegas discuss new technologies impact one favourite pastimes us leading trend programmes content delivered viewers via home networks cable satellite telecoms companies broadband service providers front rooms portable devices one talkedabout technologies ces digital personal video recorders dvr pvr settop boxes like us tivo uk sky system allow people record store play pause forward wind tv programmes want essentially technology allows much personalised tv also builtin highdefinition tv sets big business japan us slower take europe lack highdefinition programming people forward wind adverts also forget abiding network channel schedules putting together alacarte entertainment us networks cable satellite companies worried means terms advertising revenues well brand identity viewer loyalty channels although us leads technology moment also concern raised europe particularly growing uptake services like sky happens today see nine months years time uk adam hume bbc broadcast futurologist told bbc news website likes bbc issues lost advertising revenue yet pressing issue moment commercial uk broadcasters brand loyalty important everyone talking content brands rather network brands said tim hanlon brand communications firm starcom mediavest reality broadband connections anybody producer content added challenge hard promote programme much choice means said stacey jolna senior vice president tv guide tv group way people find content want watch simplified tv viewers means networks us terms channels could take leaf google book search engine future instead scheduler help people find want watch kind channel model might work younger ipod generation used taking control gadgets play might suit everyone panel recognised older generations comfortable familiar schedules channel brands know getting perhaps want much choice put hands mr hanlon suggested end kids diapers pushing buttons already everything possible available said mr hanlon ultimately consumer tell market want new gadgets technologies showcased ces many enhancing tvwatching experience highdefinition tv sets everywhere many new models lcd liquid crystal display tvs launched dvr capability built instead external boxes one example launched show humax lcd tv tivo dvr dvd recorder one us biggest satellite tv companies directtv even launched branded dvr show recording capability instant replay search function set pause rewind tv hours microsoft chief bill gates announced preshow keynote speech partnership tivo called tivotogo means people play recorded programmes windows pcs mobile devices reflect increasing trend freeing multimedia people watch want want'"
            ]
          },
          "metadata": {
            "tags": []
          },
          "execution_count": 28
        }
      ]
    },
    {
      "cell_type": "code",
      "metadata": {
        "id": "f5iJ3uGxTnEi",
        "colab_type": "code",
        "outputId": "ca97ff2f-d06a-43aa-c9f1-27a5b8916405",
        "colab": {
          "base_uri": "https://localhost:8080/",
          "height": 54
        }
      },
      "source": [
        "df_clean[\"text_lemmatize\"][0]"
      ],
      "execution_count": 0,
      "outputs": [
        {
          "output_type": "execute_result",
          "data": {
            "text/plain": [
              "'tv future hand viewer home theatre system plasma highdefinition tvs digital video recorder move living room way people watch tv radically different five year time accord expert panel gather annual consumer electronic show las vegas discuss new technology impact one favourite pastime -PRON- lead trend programme content deliver viewer via home network cable satellite telecom company broadband service provider front room portable device one talkedabout technology ce digital personal video recorder dvr pvr settop box like -PRON- tivo uk sky system allow people record store play pause forward wind tv programme want essentially technology allow much personalised tv also builtin highdefinition tv set big business japan -PRON- slow take europe lack highdefinition program people forward wind advert also forget abide network channel schedule put together alacarte entertainment -PRON- network cable satellite company worry mean term advertising revenue well brand identity viewer loyalty channel although -PRON- lead technology moment also concern raise europe particularly grow uptake service like sky happen today see nine month year time uk adam hume bbc broadcast futurologist tell bbc news website like bbc issue lose advertising revenue yet press issue moment commercial uk broadcaster brand loyalty important everyone talk content brand rather network brand say tim hanlon brand communication firm starcom mediav reality broadband connection anybody producer content add challenge hard promote programme much choice mean say stacey jolna senior vice president tv guide tv group way people find content want watch simplify tv viewer mean network -PRON- term channel could take leaf google book search engine future instead scheduler help people find want watch kind channel model may work young ipod generation use take control gadget play may suit everyone panel recognise old generation comfortable familiar schedule channel brand know get perhaps want much choice put hand mr hanlon suggest end kid diaper push button already everything possible available say mr hanlon ultimately consumer tell market want new gadget technology showcased ce many enhance tvwatche experience highdefinition tv set everywhere many new model lcd liquid crystal display tvs launch dvr capability build instead external box one example launch show humax lcd tv tivo dvr dvd recorder one -PRON- big satellite tv company directtv even launch brand dvr show record capability instant replay search function set pause rewind tv hour microsoft chief bill gate announce preshow keynote speech partnership tivo call tivotogo mean people play record programme window pcs mobile device reflect increase trend free multimedia people watch want want'"
            ]
          },
          "metadata": {
            "tags": []
          },
          "execution_count": 29
        }
      ]
    },
    {
      "cell_type": "markdown",
      "metadata": {
        "id": "xEQO2kVAAt6q",
        "colab_type": "text"
      },
      "source": [
        "Persiapkan list `sentences`, yang berisi list kata pada tiap kalimat.  \n",
        "Dari `['saya dan dia', 'kamu dan mereka']` menjadi `[['saya', 'dan', 'dia'], ['kamu', 'dan', 'mereka']`."
      ]
    },
    {
      "cell_type": "code",
      "metadata": {
        "id": "SqlBfFjYT1Aj",
        "colab_type": "code",
        "outputId": "32bf1a89-b44a-4ac2-a630-cc505dc82df1",
        "colab": {
          "base_uri": "https://localhost:8080/",
          "height": 34
        }
      },
      "source": [
        "sentences = [row.split() for row in df_clean['text_lemmatize']]\n",
        "word_freq = defaultdict(int)\n",
        "for sent in sentences:\n",
        "    for i in sent:\n",
        "        word_freq[i] += 1\n",
        "len(word_freq)"
      ],
      "execution_count": 0,
      "outputs": [
        {
          "output_type": "execute_result",
          "data": {
            "text/plain": [
              "24582"
            ]
          },
          "metadata": {
            "tags": []
          },
          "execution_count": 30
        }
      ]
    },
    {
      "cell_type": "markdown",
      "metadata": {
        "id": "2p8fjO-mAj9M",
        "colab_type": "text"
      },
      "source": [
        "Top-10 kata dengan jumlah kemunculan tertinggi."
      ]
    },
    {
      "cell_type": "code",
      "metadata": {
        "id": "84UHyM5yUIMF",
        "colab_type": "code",
        "outputId": "a9a22910-c9fa-4ab6-f8c0-5e1d6c42f36a",
        "colab": {
          "base_uri": "https://localhost:8080/",
          "height": 187
        }
      },
      "source": [
        "sorted(word_freq, key=word_freq.get, reverse=True)[:10]"
      ],
      "execution_count": 0,
      "outputs": [
        {
          "output_type": "execute_result",
          "data": {
            "text/plain": [
              "['say',\n",
              " 'mr',\n",
              " 'year',\n",
              " 'would',\n",
              " 'make',\n",
              " 'also',\n",
              " 'people',\n",
              " '-PRON-',\n",
              " 'new',\n",
              " 'one']"
            ]
          },
          "metadata": {
            "tags": []
          },
          "execution_count": 31
        }
      ]
    },
    {
      "cell_type": "markdown",
      "metadata": {
        "id": "ZEyE0_v0PgLE",
        "colab_type": "text"
      },
      "source": [
        "Buat objek dari constructor Word2Vec."
      ]
    },
    {
      "cell_type": "code",
      "metadata": {
        "id": "LQLDiDnUVQ0x",
        "colab_type": "code",
        "colab": {}
      },
      "source": [
        "# min_count: minimum number of occurrences of a word in the corpus to be included in the model.\n",
        "# window: the maximum distance between the current and predicted word within a sentence.\n",
        "# size: the dimensionality of the feature vectors\n",
        "# workers: number of workers, \n",
        "w2v_model = Word2Vec(min_count=200,\n",
        "                     window=5,\n",
        "                     size=100,\n",
        "                     workers=4,\n",
        "                     sg=1)"
      ],
      "execution_count": 0,
      "outputs": []
    },
    {
      "cell_type": "markdown",
      "metadata": {
        "id": "CzVDuQAsPoDE",
        "colab_type": "text"
      },
      "source": [
        "Bangun vocabulary."
      ]
    },
    {
      "cell_type": "code",
      "metadata": {
        "id": "fA0qKc6LVZLO",
        "colab_type": "code",
        "colab": {}
      },
      "source": [
        "# this line of code to prepare the model vocabulary\n",
        "w2v_model.build_vocab(sentences)"
      ],
      "execution_count": 0,
      "outputs": []
    },
    {
      "cell_type": "markdown",
      "metadata": {
        "id": "dQbB94_PPwki",
        "colab_type": "text"
      },
      "source": [
        "Train word2vec model."
      ]
    },
    {
      "cell_type": "code",
      "metadata": {
        "id": "p85SjhcqVh7V",
        "colab_type": "code",
        "outputId": "c7595bef-c55b-4447-d47e-0756ad7314a8",
        "colab": {
          "base_uri": "https://localhost:8080/",
          "height": 88
        }
      },
      "source": [
        "# train word vectors\n",
        "w2v_model.train(sentences, total_examples=w2v_model.corpus_count, epochs=w2v_model.iter)"
      ],
      "execution_count": 0,
      "outputs": [
        {
          "output_type": "stream",
          "text": [
            "/usr/local/lib/python3.6/dist-packages/ipykernel_launcher.py:1: DeprecationWarning: Call to deprecated `iter` (Attribute will be removed in 4.0.0, use self.epochs instead).\n",
            "  \"\"\"Entry point for launching an IPython kernel.\n"
          ],
          "name": "stderr"
        },
        {
          "output_type": "execute_result",
          "data": {
            "text/plain": [
              "(986030, 2390515)"
            ]
          },
          "metadata": {
            "tags": []
          },
          "execution_count": 34
        }
      ]
    },
    {
      "cell_type": "code",
      "metadata": {
        "id": "Y3o1Z6zkVkyE",
        "colab_type": "code",
        "outputId": "fd72a0f2-9497-4d8b-ca38-da869e2aa524",
        "colab": {
          "base_uri": "https://localhost:8080/",
          "height": 241
        }
      },
      "source": [
        "# Explore the model\n",
        "w2v_model.wv.most_similar(positive=['economy'])"
      ],
      "execution_count": 0,
      "outputs": [
        {
          "output_type": "stream",
          "text": [
            "/usr/local/lib/python3.6/dist-packages/gensim/matutils.py:737: FutureWarning: Conversion of the second argument of issubdtype from `int` to `np.signedinteger` is deprecated. In future, it will be treated as `np.int64 == np.dtype(int).type`.\n",
            "  if np.issubdtype(vec.dtype, np.int):\n"
          ],
          "name": "stderr"
        },
        {
          "output_type": "execute_result",
          "data": {
            "text/plain": [
              "[('economic', 0.8676320910453796),\n",
              " ('growth', 0.8098697066307068),\n",
              " ('budget', 0.6808347702026367),\n",
              " ('spending', 0.6647593379020691),\n",
              " ('demand', 0.6581439971923828),\n",
              " ('grow', 0.6392072439193726),\n",
              " ('continue', 0.6339262127876282),\n",
              " ('strong', 0.6308209300041199),\n",
              " ('trade', 0.6091998815536499),\n",
              " ('rate', 0.6002124547958374)]"
            ]
          },
          "metadata": {
            "tags": []
          },
          "execution_count": 35
        }
      ]
    },
    {
      "cell_type": "code",
      "metadata": {
        "id": "lBlcresgYcuY",
        "colab_type": "code",
        "outputId": "cba1a392-801f-4d7a-b32b-4a0e58084b49",
        "colab": {
          "base_uri": "https://localhost:8080/",
          "height": 241
        }
      },
      "source": [
        "w2v_model.wv.most_similar(positive=['tv'])"
      ],
      "execution_count": 0,
      "outputs": [
        {
          "output_type": "stream",
          "text": [
            "/usr/local/lib/python3.6/dist-packages/gensim/matutils.py:737: FutureWarning: Conversion of the second argument of issubdtype from `int` to `np.signedinteger` is deprecated. In future, it will be treated as `np.int64 == np.dtype(int).type`.\n",
            "  if np.issubdtype(vec.dtype, np.int):\n"
          ],
          "name": "stderr"
        },
        {
          "output_type": "execute_result",
          "data": {
            "text/plain": [
              "[('programme', 0.7108919620513916),\n",
              " ('digital', 0.6631840467453003),\n",
              " ('series', 0.6481456160545349),\n",
              " ('video', 0.6093907356262207),\n",
              " ('content', 0.6025813817977905),\n",
              " ('movie', 0.5945273637771606),\n",
              " ('network', 0.5817338228225708),\n",
              " ('live', 0.57547527551651),\n",
              " ('broadband', 0.570160984992981),\n",
              " ('film', 0.5627899169921875)]"
            ]
          },
          "metadata": {
            "tags": []
          },
          "execution_count": 36
        }
      ]
    },
    {
      "cell_type": "code",
      "metadata": {
        "id": "rKvb0UZbYor3",
        "colab_type": "code",
        "outputId": "9e933cc5-095a-4354-ca77-23c649e0d862",
        "colab": {
          "base_uri": "https://localhost:8080/",
          "height": 88
        }
      },
      "source": [
        "w2v_model.wv.similarity('device', 'gadget')"
      ],
      "execution_count": 0,
      "outputs": [
        {
          "output_type": "stream",
          "text": [
            "/usr/local/lib/python3.6/dist-packages/gensim/matutils.py:737: FutureWarning: Conversion of the second argument of issubdtype from `int` to `np.signedinteger` is deprecated. In future, it will be treated as `np.int64 == np.dtype(int).type`.\n",
            "  if np.issubdtype(vec.dtype, np.int):\n"
          ],
          "name": "stderr"
        },
        {
          "output_type": "execute_result",
          "data": {
            "text/plain": [
              "0.75712633"
            ]
          },
          "metadata": {
            "tags": []
          },
          "execution_count": 37
        }
      ]
    },
    {
      "cell_type": "code",
      "metadata": {
        "id": "bfkClHdZZYXZ",
        "colab_type": "code",
        "outputId": "34b40717-e883-41af-91d5-e34e9abe978c",
        "colab": {
          "base_uri": "https://localhost:8080/",
          "height": 513
        }
      },
      "source": [
        "w2v_model['gadget']"
      ],
      "execution_count": 0,
      "outputs": [
        {
          "output_type": "stream",
          "text": [
            "/usr/local/lib/python3.6/dist-packages/ipykernel_launcher.py:1: DeprecationWarning: Call to deprecated `__getitem__` (Method will be removed in 4.0.0, use self.wv.__getitem__() instead).\n",
            "  \"\"\"Entry point for launching an IPython kernel.\n"
          ],
          "name": "stderr"
        },
        {
          "output_type": "execute_result",
          "data": {
            "text/plain": [
              "array([ 3.51716936e-01, -3.10405493e-01,  2.58844733e-01,  2.91592598e-01,\n",
              "        3.61984551e-01,  8.29442561e-01,  5.68146408e-01, -3.04171205e-01,\n",
              "        6.58955455e-01, -2.57914752e-01, -4.34701502e-01,  1.33302033e-01,\n",
              "        1.37230545e-01, -3.55676919e-01,  1.71297595e-01, -1.80594679e-02,\n",
              "       -1.35428503e-01, -6.44041479e-01,  2.70665795e-01,  3.01393807e-01,\n",
              "        8.95261914e-02, -1.29007772e-01,  3.04843903e-01,  3.43943387e-02,\n",
              "        3.30024026e-02, -3.67348939e-01, -5.53584814e-01, -1.73699632e-01,\n",
              "        1.20012052e-01,  9.57344919e-02,  1.97749674e-01, -7.04085052e-01,\n",
              "       -1.24684036e-01, -1.86794832e-01, -1.55351520e-01, -2.48852119e-01,\n",
              "       -1.64486721e-01,  3.28225106e-01,  2.44364247e-01,  1.91640928e-01,\n",
              "       -5.06226607e-02, -1.35564089e-01,  7.00383913e-04,  2.77021736e-01,\n",
              "       -3.87421623e-02,  4.88046296e-02,  1.22849084e-01,  8.16492215e-02,\n",
              "       -3.53900343e-01, -1.27994329e-01,  5.44871807e-01,  1.33204326e-01,\n",
              "       -4.87718433e-01,  2.58245803e-02,  1.40843824e-01,  3.82911742e-01,\n",
              "        2.97170848e-01, -2.87249088e-01, -1.28325403e-01,  2.33160555e-01,\n",
              "        1.82535142e-01,  4.05667603e-01,  2.43370831e-01, -8.78158808e-02,\n",
              "       -2.36648008e-01, -2.36237068e-02, -2.25944117e-01, -2.44160742e-02,\n",
              "        2.15032354e-01, -6.34736642e-02,  8.53698328e-02, -3.10586721e-01,\n",
              "        1.89862843e-03, -3.58261466e-01,  1.30267248e-01,  1.07113503e-01,\n",
              "       -1.32722137e-02, -1.44927382e-01,  3.05601954e-01, -1.79937974e-01,\n",
              "        2.11490020e-01, -2.69183218e-01, -1.81042090e-01,  4.59694564e-01,\n",
              "       -7.27853850e-02,  8.86327699e-02, -2.40894645e-01, -7.36972168e-02,\n",
              "        1.26893893e-01,  5.16230911e-02,  2.13480461e-02, -2.58167297e-01,\n",
              "        2.14432795e-02,  8.73134956e-02,  1.61979705e-01, -3.27095091e-02,\n",
              "       -4.83051270e-01, -6.28973544e-02, -9.54327360e-02, -4.06372845e-02],\n",
              "      dtype=float32)"
            ]
          },
          "metadata": {
            "tags": []
          },
          "execution_count": 38
        }
      ]
    },
    {
      "cell_type": "code",
      "metadata": {
        "id": "tdq1L_B-ZklF",
        "colab_type": "code",
        "outputId": "4348c3c0-2bc9-4f46-daf1-443455084829",
        "colab": {
          "base_uri": "https://localhost:8080/",
          "height": 88
        }
      },
      "source": [
        "w2v_model['gadget'].shape"
      ],
      "execution_count": 0,
      "outputs": [
        {
          "output_type": "stream",
          "text": [
            "/usr/local/lib/python3.6/dist-packages/ipykernel_launcher.py:1: DeprecationWarning: Call to deprecated `__getitem__` (Method will be removed in 4.0.0, use self.wv.__getitem__() instead).\n",
            "  \"\"\"Entry point for launching an IPython kernel.\n"
          ],
          "name": "stderr"
        },
        {
          "output_type": "execute_result",
          "data": {
            "text/plain": [
              "(100,)"
            ]
          },
          "metadata": {
            "tags": []
          },
          "execution_count": 39
        }
      ]
    },
    {
      "cell_type": "markdown",
      "metadata": {
        "id": "GlwqMD4TtSfz",
        "colab_type": "text"
      },
      "source": [
        "## Text Classification with LSTM"
      ]
    },
    {
      "cell_type": "markdown",
      "metadata": {
        "id": "fqgEFXhdP_ms",
        "colab_type": "text"
      },
      "source": [
        "Kali ini kita akan coba menggunakan LSTM untuk melakukan klasifikasi teks."
      ]
    },
    {
      "cell_type": "code",
      "metadata": {
        "id": "4MclTSZFZwp4",
        "colab_type": "code",
        "outputId": "ce434145-e59e-48bb-b21d-0cef8e9985ce",
        "colab": {
          "base_uri": "https://localhost:8080/",
          "height": 63
        }
      },
      "source": [
        "import tensorflow as tf\n",
        "import numpy as np\n",
        "from tensorflow.keras.preprocessing.text import Tokenizer\n",
        "from tensorflow.keras.preprocessing.sequence import pad_sequences\n"
      ],
      "execution_count": 0,
      "outputs": [
        {
          "output_type": "display_data",
          "data": {
            "text/html": [
              "<p style=\"color: red;\">\n",
              "The default version of TensorFlow in Colab will soon switch to TensorFlow 2.x.<br>\n",
              "We recommend you <a href=\"https://www.tensorflow.org/guide/migrate\" target=\"_blank\">upgrade</a> now \n",
              "or ensure your notebook will continue to use TensorFlow 1.x via the <code>%tensorflow_version 1.x</code> magic:\n",
              "<a href=\"https://colab.research.google.com/notebooks/tensorflow_version.ipynb\" target=\"_blank\">more info</a>.</p>\n"
            ],
            "text/plain": [
              "<IPython.core.display.HTML object>"
            ]
          },
          "metadata": {
            "tags": []
          }
        }
      ]
    },
    {
      "cell_type": "markdown",
      "metadata": {
        "id": "R1ywrQw-Bp8h",
        "colab_type": "text"
      },
      "source": [
        "`vocab_size`: hanya menggunakan top-5000 vocab dari total 24582. Hal ini untuk mempercepat waktu training.  \n",
        "`embedding_dim`: dimensi vektor representasi setiap token.  \n",
        "`max_length`: maksimal jumlah token dalam satu artikel/sample data.  \n",
        "`trunc_type = post`: jika melebihi `max_length`, pemotongan dilakukan di bagian akhir.  \n",
        "`oov_tok`: pengganti token yang tidak ada dalam vocab.\n",
        "\n",
        "*Sebaiknya menyebutkan token atau kata?*"
      ]
    },
    {
      "cell_type": "code",
      "metadata": {
        "id": "7ltMUkNic9mS",
        "colab_type": "code",
        "colab": {}
      },
      "source": [
        "vocab_size = 5000\n",
        "embedding_dim = 64\n",
        "max_length = 200\n",
        "trunc_type = 'post'\n",
        "padding_type = 'post'\n",
        "oov_tok = '<OOV>'\n",
        "training_portion = .8"
      ],
      "execution_count": 0,
      "outputs": []
    },
    {
      "cell_type": "markdown",
      "metadata": {
        "id": "c5aPPDfhDnYT",
        "colab_type": "text"
      },
      "source": [
        "Split data menjadi 80% training dan 20% validasi."
      ]
    },
    {
      "cell_type": "code",
      "metadata": {
        "id": "C_2fvkAxdmYS",
        "colab_type": "code",
        "colab": {}
      },
      "source": [
        "train_size = int(len(df_clean) * training_portion)\n",
        "train_set = df_clean[0: train_size]\n",
        "validation_set = df_clean[train_size:]"
      ],
      "execution_count": 0,
      "outputs": []
    },
    {
      "cell_type": "code",
      "metadata": {
        "id": "OYRei0Uddva8",
        "colab_type": "code",
        "outputId": "7c942c0d-9faf-4b6d-dbe3-f5106045de47",
        "colab": {
          "base_uri": "https://localhost:8080/",
          "height": 34
        }
      },
      "source": [
        "len(train_set), len(validation_set)"
      ],
      "execution_count": 0,
      "outputs": [
        {
          "output_type": "execute_result",
          "data": {
            "text/plain": [
              "(1780, 445)"
            ]
          },
          "metadata": {
            "tags": []
          },
          "execution_count": 43
        }
      ]
    },
    {
      "cell_type": "markdown",
      "metadata": {
        "id": "Pb4R_MKaD14N",
        "colab_type": "text"
      },
      "source": [
        "Tokenisasi menggunakan library `keras`. Fit `tokenizer` **hanya pada training set**."
      ]
    },
    {
      "cell_type": "code",
      "metadata": {
        "id": "o9F0zUrUdxTI",
        "colab_type": "code",
        "colab": {}
      },
      "source": [
        "tokenizer = Tokenizer(num_words = vocab_size, oov_token=oov_tok)\n",
        "tokenizer.fit_on_texts(train_set[\"text\"])\n",
        "word_index = tokenizer.word_index"
      ],
      "execution_count": 0,
      "outputs": []
    },
    {
      "cell_type": "code",
      "metadata": {
        "id": "hIks7Z3weQFZ",
        "colab_type": "code",
        "outputId": "f9ebf4e5-3baa-49c9-f17c-568bb1004d93",
        "colab": {
          "base_uri": "https://localhost:8080/",
          "height": 187
        }
      },
      "source": [
        "list(word_index.items())[0:10]"
      ],
      "execution_count": 0,
      "outputs": [
        {
          "output_type": "execute_result",
          "data": {
            "text/plain": [
              "[('<OOV>', 1),\n",
              " ('said', 2),\n",
              " ('mr', 3),\n",
              " ('would', 4),\n",
              " ('also', 5),\n",
              " ('people', 6),\n",
              " ('new', 7),\n",
              " ('us', 8),\n",
              " ('year', 9),\n",
              " ('one', 10)]"
            ]
          },
          "metadata": {
            "tags": []
          },
          "execution_count": 45
        }
      ]
    },
    {
      "cell_type": "markdown",
      "metadata": {
        "id": "3aX_M2vlEw2Q",
        "colab_type": "text"
      },
      "source": [
        "Encode sekuen token ke dalam sekuen id."
      ]
    },
    {
      "cell_type": "code",
      "metadata": {
        "id": "Qpt6CnOkeUJx",
        "colab_type": "code",
        "colab": {}
      },
      "source": [
        "train_sequences = tokenizer.texts_to_sequences(train_set[\"text\"])"
      ],
      "execution_count": 0,
      "outputs": []
    },
    {
      "cell_type": "code",
      "metadata": {
        "id": "5JF_kuJpe06O",
        "colab_type": "code",
        "outputId": "6d49b046-f375-473f-899b-00106cb18a95",
        "colab": {
          "base_uri": "https://localhost:8080/",
          "height": 54
        }
      },
      "source": [
        "print(train_sequences[10])"
      ],
      "execution_count": 0,
      "outputs": [
        {
          "output_type": "stream",
          "text": [
            "[2248, 1, 1, 24, 631, 548, 1, 1, 1, 1618, 1, 1, 2248, 24, 520, 1, 1, 148, 248, 1, 148, 248, 785, 784, 602, 2139, 1, 1570, 1, 1596, 1, 1, 1, 1, 1, 4479, 1, 1, 108, 4258, 1, 2, 2669, 1396, 321, 4480, 1, 48, 337, 1, 321, 2009, 3717, 37, 24, 3560, 1, 1, 1, 1, 503, 1, 1, 1, 812, 576, 2316, 318, 4734, 1, 345, 24, 1, 728, 2249, 1, 4067, 121, 10, 1, 3429, 620, 3310, 1, 24, 1, 373, 784, 602, 1, 80, 14, 577, 1, 1, 1, 555, 1570, 937, 1, 1, 823, 1734, 130, 1, 1, 1, 2764, 24, 1, 99, 248, 1, 1483, 4735, 503, 454, 1, 1338, 4481, 712, 1279, 1, 1732, 10, 38, 631, 292, 1, 69, 443, 520, 280, 1484, 24, 437, 1, 1, 1544, 1, 775, 1, 2965, 1, 1464, 5, 1, 2248, 520, 24, 2762, 1, 1, 1, 1, 1, 813, 41, 1693, 27, 895, 1, 814, 24, 348, 24, 14, 280, 1484, 1244, 20, 72, 979, 1002, 4068, 249]\n"
          ],
          "name": "stdout"
        }
      ]
    },
    {
      "cell_type": "markdown",
      "metadata": {
        "id": "bc--4nzJFfV_",
        "colab_type": "text"
      },
      "source": [
        "Potong sekuens ids (jika melebihi `max_length`) atau tambahkan padding (jika kurang dari `max_length`)."
      ]
    },
    {
      "cell_type": "code",
      "metadata": {
        "id": "uGAiKQ7Te3rr",
        "colab_type": "code",
        "colab": {}
      },
      "source": [
        "train_padded = pad_sequences(train_sequences, maxlen=max_length, padding=padding_type, truncating=trunc_type)"
      ],
      "execution_count": 0,
      "outputs": []
    },
    {
      "cell_type": "code",
      "metadata": {
        "id": "Y4jpJaQBfA9U",
        "colab_type": "code",
        "outputId": "6fdbfbc4-0535-4385-b9bd-b89fbc81ba62",
        "colab": {
          "base_uri": "https://localhost:8080/",
          "height": 119
        }
      },
      "source": [
        "print('before pad_sequences: ',len(train_sequences[0]))\n",
        "print('after pad_sequences: ',len(train_padded[0]))\n",
        "\n",
        "print('before pad_sequences: ',len(train_sequences[1]))\n",
        "print('after pad_sequences: ',len(train_padded[1]))\n",
        "\n",
        "print('before pad_sequences: ',len(train_sequences[10]))\n",
        "print('after pad_sequences: ',len(train_padded[10]))"
      ],
      "execution_count": 0,
      "outputs": [
        {
          "output_type": "stream",
          "text": [
            "before pad_sequences:  404\n",
            "after pad_sequences:  200\n",
            "before pad_sequences:  183\n",
            "after pad_sequences:  200\n",
            "before pad_sequences:  176\n",
            "after pad_sequences:  200\n"
          ],
          "name": "stdout"
        }
      ]
    },
    {
      "cell_type": "markdown",
      "metadata": {
        "id": "J83nd_TvQZwq",
        "colab_type": "text"
      },
      "source": [
        "Perbandingan data sebelum dan setelah padding."
      ]
    },
    {
      "cell_type": "code",
      "metadata": {
        "id": "vGu-eYZFfIA3",
        "colab_type": "code",
        "outputId": "618ac4e2-9fe6-47a4-bfd8-0f8a0e4d5b15",
        "colab": {
          "base_uri": "https://localhost:8080/",
          "height": 238
        }
      },
      "source": [
        "print(np.asarray(train_sequences[10]))"
      ],
      "execution_count": 0,
      "outputs": [
        {
          "output_type": "stream",
          "text": [
            "[2248    1    1   24  631  548    1    1    1 1618    1    1 2248   24\n",
            "  520    1    1  148  248    1  148  248  785  784  602 2139    1 1570\n",
            "    1 1596    1    1    1    1    1 4479    1    1  108 4258    1    2\n",
            " 2669 1396  321 4480    1   48  337    1  321 2009 3717   37   24 3560\n",
            "    1    1    1    1  503    1    1    1  812  576 2316  318 4734    1\n",
            "  345   24    1  728 2249    1 4067  121   10    1 3429  620 3310    1\n",
            "   24    1  373  784  602    1   80   14  577    1    1    1  555 1570\n",
            "  937    1    1  823 1734  130    1    1    1 2764   24    1   99  248\n",
            "    1 1483 4735  503  454    1 1338 4481  712 1279    1 1732   10   38\n",
            "  631  292    1   69  443  520  280 1484   24  437    1    1 1544    1\n",
            "  775    1 2965    1 1464    5    1 2248  520   24 2762    1    1    1\n",
            "    1    1  813   41 1693   27  895    1  814   24  348   24   14  280\n",
            " 1484 1244   20   72  979 1002 4068  249]\n"
          ],
          "name": "stdout"
        }
      ]
    },
    {
      "cell_type": "markdown",
      "metadata": {
        "id": "cBctiuR9GJqO",
        "colab_type": "text"
      },
      "source": [
        "Token padding adalah `0`."
      ]
    },
    {
      "cell_type": "code",
      "metadata": {
        "id": "6LamBFOkfNFZ",
        "colab_type": "code",
        "outputId": "5d20c311-ca7c-422d-b214-b128bb3d8153",
        "colab": {
          "base_uri": "https://localhost:8080/",
          "height": 272
        }
      },
      "source": [
        "print(train_padded[10])"
      ],
      "execution_count": 0,
      "outputs": [
        {
          "output_type": "stream",
          "text": [
            "[2248    1    1   24  631  548    1    1    1 1618    1    1 2248   24\n",
            "  520    1    1  148  248    1  148  248  785  784  602 2139    1 1570\n",
            "    1 1596    1    1    1    1    1 4479    1    1  108 4258    1    2\n",
            " 2669 1396  321 4480    1   48  337    1  321 2009 3717   37   24 3560\n",
            "    1    1    1    1  503    1    1    1  812  576 2316  318 4734    1\n",
            "  345   24    1  728 2249    1 4067  121   10    1 3429  620 3310    1\n",
            "   24    1  373  784  602    1   80   14  577    1    1    1  555 1570\n",
            "  937    1    1  823 1734  130    1    1    1 2764   24    1   99  248\n",
            "    1 1483 4735  503  454    1 1338 4481  712 1279    1 1732   10   38\n",
            "  631  292    1   69  443  520  280 1484   24  437    1    1 1544    1\n",
            "  775    1 2965    1 1464    5    1 2248  520   24 2762    1    1    1\n",
            "    1    1  813   41 1693   27  895    1  814   24  348   24   14  280\n",
            " 1484 1244   20   72  979 1002 4068  249    0    0    0    0    0    0\n",
            "    0    0    0    0    0    0    0    0    0    0    0    0    0    0\n",
            "    0    0    0    0]\n"
          ],
          "name": "stdout"
        }
      ]
    },
    {
      "cell_type": "markdown",
      "metadata": {
        "id": "YIJA5YfdGOSX",
        "colab_type": "text"
      },
      "source": [
        "Lakukan hal yang sama untuk data validasi."
      ]
    },
    {
      "cell_type": "code",
      "metadata": {
        "id": "AymBefAMfPNb",
        "colab_type": "code",
        "outputId": "8e7b9693-4869-4ae2-cf90-8779bc62c490",
        "colab": {
          "base_uri": "https://localhost:8080/",
          "height": 51
        }
      },
      "source": [
        "validation_sequences = tokenizer.texts_to_sequences(validation_set['text'])\n",
        "validation_padded = pad_sequences(validation_sequences, maxlen=max_length, padding=padding_type, truncating=trunc_type)\n",
        "\n",
        "print(len(validation_sequences))\n",
        "print(validation_padded.shape)"
      ],
      "execution_count": 0,
      "outputs": [
        {
          "output_type": "stream",
          "text": [
            "445\n",
            "(445, 200)\n"
          ],
          "name": "stdout"
        }
      ]
    },
    {
      "cell_type": "markdown",
      "metadata": {
        "id": "Mf4Wn2FlGWD8",
        "colab_type": "text"
      },
      "source": [
        "Ubah label ke dalam numerik."
      ]
    },
    {
      "cell_type": "code",
      "metadata": {
        "id": "IOTW7Pfjf2Ff",
        "colab_type": "code",
        "colab": {}
      },
      "source": [
        "label_tokenizer = Tokenizer()\n",
        "label_tokenizer.fit_on_texts(df_clean['category'])\n",
        "\n",
        "training_label_seq = np.array(label_tokenizer.texts_to_sequences(train_set['category']))\n",
        "validation_label_seq = np.array(label_tokenizer.texts_to_sequences(validation_set['category']))"
      ],
      "execution_count": 0,
      "outputs": []
    },
    {
      "cell_type": "code",
      "metadata": {
        "id": "dqchcdwEgQHd",
        "colab_type": "code",
        "outputId": "6b529cca-61c7-42dc-d891-f3699ecf96e2",
        "colab": {
          "base_uri": "https://localhost:8080/",
          "height": 153
        }
      },
      "source": [
        "print(training_label_seq[0])\n",
        "print(training_label_seq[1])\n",
        "print(training_label_seq[2])\n",
        "print(training_label_seq.shape)\n",
        "\n",
        "print(validation_label_seq[0])\n",
        "print(validation_label_seq[1])\n",
        "print(validation_label_seq[2])\n",
        "print(validation_label_seq.shape)"
      ],
      "execution_count": 0,
      "outputs": [
        {
          "output_type": "stream",
          "text": [
            "[4]\n",
            "[2]\n",
            "[1]\n",
            "(1780, 1)\n",
            "[5]\n",
            "[4]\n",
            "[3]\n",
            "(445, 1)\n"
          ],
          "name": "stdout"
        }
      ]
    },
    {
      "cell_type": "markdown",
      "metadata": {
        "id": "IpLNjsq6Qhf1",
        "colab_type": "text"
      },
      "source": [
        "Sebelum kita mulai klasifikasi, mari kita lihat perubahan yang terjadi dari pada training data dalam format teks. Kata yang tidak ada dalam vocabulary (OOV) sudah digantikan dengan token khusus, dan ditambahkan `pad_token` yang didecode sebagai `?`."
      ]
    },
    {
      "cell_type": "code",
      "metadata": {
        "id": "b4RUFl9kihGp",
        "colab_type": "code",
        "outputId": "4543d910-7663-4cf2-f110-223f4e6d0424",
        "colab": {
          "base_uri": "https://localhost:8080/",
          "height": 88
        }
      },
      "source": [
        "reverse_word_index = dict([(value, key) for (key, value) in word_index.items()])\n",
        "\n",
        "def decode_article(text):\n",
        "    return ' '.join([reverse_word_index.get(i, '?') for i in text])\n",
        "print(decode_article(train_padded[10]))\n",
        "print('---')\n",
        "print(train_set['text'][10])"
      ],
      "execution_count": 0,
      "outputs": [
        {
          "output_type": "stream",
          "text": [
            "berlin <OOV> <OOV> film german movie <OOV> <OOV> <OOV> drawn <OOV> <OOV> berlin film festival <OOV> <OOV> final days <OOV> final days member white rose movement <OOV> arrested <OOV> brother <OOV> <OOV> <OOV> <OOV> <OOV> tyranny <OOV> <OOV> director marc <OOV> said feeling responsibility keep legacy <OOV> going must <OOV> keep ideas alive added film drew <OOV> <OOV> <OOV> <OOV> trial <OOV> <OOV> <OOV> east germany secret police discovery <OOV> behind film <OOV> worked closely <OOV> relatives including one <OOV> sisters ensure historical <OOV> film <OOV> members white rose <OOV> group first started <OOV> <OOV> <OOV> summer arrested dropped <OOV> <OOV> university calling day <OOV> <OOV> <OOV> regime film <OOV> six days <OOV> arrest intense trial saw <OOV> initially deny charges ended <OOV> appearance one three german films <OOV> top prize festival south african film version <OOV> <OOV> opera <OOV> shot <OOV> town <OOV> language also <OOV> berlin festival film entitled <OOV> <OOV> <OOV> <OOV> <OOV> story set performed music theatre <OOV> debut film performance film first south african feature years second nominated golden bear award ? ? ? ? ? ? ? ? ? ? ? ? ? ? ? ? ? ? ? ? ? ? ? ?\n",
            "---\n",
            "berlin cheers antinazi film german movie antinazi resistance heroine drawn loud applause berlin film festival sophie scholl final days portrays final days member white rose movement scholl arrested beheaded brother hans distributing leaflets condemning abhorrent tyranny adolf hitler director marc rothemund said feeling responsibility keep legacy scholls going must somehow keep ideas alive added film drew transcripts gestapo interrogations scholl trial preserved archive communist east germany secret police discovery inspiration behind film rothemund worked closely surviving relatives including one scholl sisters ensure historical accuracy film scholl members white rose resistance group first started distributing antinazi leaflets summer arrested dropped leaflets munich university calling day reckoning adolf hitler regime film focuses six days scholl arrest intense trial saw scholl initially deny charges ended defiant appearance one three german films vying top prize festival south african film version bizet tragic opera carmen shot cape town xhosa language also premiered berlin festival film entitled ucarmen ekhayelitsha carmen khayelitsha township story set performed music theatre troupe debut film performance film first south african feature years second nominated golden bear award\n"
          ],
          "name": "stdout"
        }
      ]
    },
    {
      "cell_type": "markdown",
      "metadata": {
        "id": "Rpw2aH1dRUwq",
        "colab_type": "text"
      },
      "source": [
        "### Model"
      ]
    },
    {
      "cell_type": "markdown",
      "metadata": {
        "id": "py2iD_i0SkLu",
        "colab_type": "text"
      },
      "source": [
        "Pertama kita perlu `Embedding` layer untuk mengubah token id menjadi vektor. Saat ini, weights dari embedding layer akan ditrain bersamaan dengan proses training semua layer.  \n",
        "Lalu sebuah `LSTM` layer dengan **jumlah `units`** dalam contoh ini yaitu 64.  \n",
        "Terakhir kita tambahkan 2 buah Dense layer."
      ]
    },
    {
      "cell_type": "code",
      "metadata": {
        "id": "_gdfiuZjiohw",
        "colab_type": "code",
        "outputId": "5f0ca7df-95f3-41bf-ee0e-3568e0661fb5",
        "colab": {
          "base_uri": "https://localhost:8080/",
          "height": 411
        }
      },
      "source": [
        "model = tf.keras.Sequential([\n",
        "    tf.keras.layers.Embedding(vocab_size, embedding_dim),\n",
        "    tf.keras.layers.LSTM(embedding_dim),\n",
        "    tf.keras.layers.Dense(embedding_dim, activation='relu'),\n",
        "    tf.keras.layers.Dense(6, activation='softmax')\n",
        "])\n",
        "model.summary()"
      ],
      "execution_count": 0,
      "outputs": [
        {
          "output_type": "stream",
          "text": [
            "WARNING:tensorflow:From /usr/local/lib/python3.6/dist-packages/tensorflow_core/python/keras/initializers.py:119: calling RandomUniform.__init__ (from tensorflow.python.ops.init_ops) with dtype is deprecated and will be removed in a future version.\n",
            "Instructions for updating:\n",
            "Call initializer instance with the dtype argument instead of passing it to the constructor\n",
            "WARNING:tensorflow:From /usr/local/lib/python3.6/dist-packages/tensorflow_core/python/ops/resource_variable_ops.py:1630: calling BaseResourceVariable.__init__ (from tensorflow.python.ops.resource_variable_ops) with constraint is deprecated and will be removed in a future version.\n",
            "Instructions for updating:\n",
            "If using Keras pass *_constraint arguments to layers.\n",
            "Model: \"sequential\"\n",
            "_________________________________________________________________\n",
            "Layer (type)                 Output Shape              Param #   \n",
            "=================================================================\n",
            "embedding (Embedding)        (None, None, 64)          320000    \n",
            "_________________________________________________________________\n",
            "lstm (LSTM)                  (None, 64)                33024     \n",
            "_________________________________________________________________\n",
            "dense (Dense)                (None, 64)                4160      \n",
            "_________________________________________________________________\n",
            "dense_1 (Dense)              (None, 6)                 390       \n",
            "=================================================================\n",
            "Total params: 357,574\n",
            "Trainable params: 357,574\n",
            "Non-trainable params: 0\n",
            "_________________________________________________________________\n"
          ],
          "name": "stdout"
        }
      ]
    },
    {
      "cell_type": "code",
      "metadata": {
        "id": "ztii3keyR2fe",
        "colab_type": "code",
        "outputId": "44524d67-5f93-473d-c4d1-12f6de98b4ce",
        "colab": {
          "base_uri": "https://localhost:8080/",
          "height": 51
        }
      },
      "source": [
        "a = 5000*64\n",
        "b = (64*(64+64)+64)*4\n",
        "print(a)\n",
        "print(b)"
      ],
      "execution_count": 0,
      "outputs": [
        {
          "output_type": "stream",
          "text": [
            "320000\n",
            "33024\n"
          ],
          "name": "stdout"
        }
      ]
    },
    {
      "cell_type": "code",
      "metadata": {
        "id": "r_5VAhh3i9m4",
        "colab_type": "code",
        "colab": {}
      },
      "source": [
        "model.compile(loss='sparse_categorical_crossentropy', optimizer='adam', metrics=['accuracy'])"
      ],
      "execution_count": 0,
      "outputs": []
    },
    {
      "cell_type": "markdown",
      "metadata": {
        "id": "GnEXdjmeTO54",
        "colab_type": "text"
      },
      "source": [
        "Train model yang telah dibuat."
      ]
    },
    {
      "cell_type": "code",
      "metadata": {
        "id": "ScxHIobGjB3r",
        "colab_type": "code",
        "outputId": "7f43ee8d-710e-4a94-a158-37f0907bd8fd",
        "colab": {
          "base_uri": "https://localhost:8080/",
          "height": 445
        }
      },
      "source": [
        "num_epochs = 10\n",
        "history = model.fit(train_padded, training_label_seq, epochs=num_epochs, validation_data=(validation_padded, validation_label_seq), verbose=2)"
      ],
      "execution_count": 0,
      "outputs": [
        {
          "output_type": "stream",
          "text": [
            "WARNING:tensorflow:From /usr/local/lib/python3.6/dist-packages/tensorflow_core/python/ops/math_grad.py:1424: where (from tensorflow.python.ops.array_ops) is deprecated and will be removed in a future version.\n",
            "Instructions for updating:\n",
            "Use tf.where in 2.0, which has the same broadcast rule as np.where\n",
            "Train on 1780 samples, validate on 445 samples\n",
            "Epoch 1/10\n",
            "1780/1780 - 16s - loss: 1.6378 - acc: 0.2708 - val_loss: 1.5217 - val_acc: 0.3258\n",
            "Epoch 2/10\n",
            "1780/1780 - 16s - loss: 1.4182 - acc: 0.3472 - val_loss: 1.2814 - val_acc: 0.3843\n",
            "Epoch 3/10\n",
            "1780/1780 - 16s - loss: 1.2364 - acc: 0.3933 - val_loss: 1.3305 - val_acc: 0.3753\n",
            "Epoch 4/10\n",
            "1780/1780 - 15s - loss: 1.2282 - acc: 0.3848 - val_loss: 1.2416 - val_acc: 0.3798\n",
            "Epoch 5/10\n",
            "1780/1780 - 16s - loss: 1.1322 - acc: 0.4303 - val_loss: 1.1439 - val_acc: 0.3955\n",
            "Epoch 6/10\n",
            "1780/1780 - 16s - loss: 1.0956 - acc: 0.4803 - val_loss: 1.1074 - val_acc: 0.3708\n",
            "Epoch 7/10\n",
            "1780/1780 - 16s - loss: 1.0414 - acc: 0.5253 - val_loss: 1.0733 - val_acc: 0.4674\n",
            "Epoch 8/10\n",
            "1780/1780 - 15s - loss: 0.8712 - acc: 0.5809 - val_loss: 1.3098 - val_acc: 0.4989\n",
            "Epoch 9/10\n",
            "1780/1780 - 16s - loss: 0.9145 - acc: 0.5933 - val_loss: 0.9383 - val_acc: 0.6112\n",
            "Epoch 10/10\n",
            "1780/1780 - 16s - loss: 1.0537 - acc: 0.6152 - val_loss: 0.8960 - val_acc: 0.6787\n"
          ],
          "name": "stdout"
        }
      ]
    },
    {
      "cell_type": "markdown",
      "metadata": {
        "id": "K1bXo93sTVEQ",
        "colab_type": "text"
      },
      "source": [
        "Plot accuracy dan error dari traning dan validation. Terlihat dalam 10 epochs, akurasi validasi di sekitar 50%."
      ]
    },
    {
      "cell_type": "code",
      "metadata": {
        "id": "9eiob55_jF5Z",
        "colab_type": "code",
        "outputId": "5eccb0e5-821c-4692-80d1-539ed9dec56b",
        "colab": {
          "base_uri": "https://localhost:8080/",
          "height": 541
        }
      },
      "source": [
        "\n",
        "def plot_graphs(history, string):\n",
        "  plt.plot(history.history[string])\n",
        "  plt.plot(history.history['val_'+string])\n",
        "  plt.xlabel(\"Epochs\")\n",
        "  plt.ylabel(string)\n",
        "  plt.legend([string, 'val_'+string])\n",
        "  plt.show()\n",
        "  \n",
        "plot_graphs(history, \"acc\")\n",
        "plot_graphs(history, \"loss\")"
      ],
      "execution_count": 0,
      "outputs": [
        {
          "output_type": "display_data",
          "data": {
            "image/png": "[encoded data removed]",
            "text/plain": [
              "<Figure size 432x288 with 1 Axes>"
            ]
          },
          "metadata": {
            "tags": []
          }
        },
        {
          "output_type": "display_data",
          "data": {
            "image/png": "[encoded data removed]",
            "text/plain": [
              "<Figure size 432x288 with 1 Axes>"
            ]
          },
          "metadata": {
            "tags": []
          }
        }
      ]
    },
    {
      "cell_type": "markdown",
      "metadata": {
        "id": "3hdUQZ92tc4D",
        "colab_type": "text"
      },
      "source": [
        "## BiLSTM"
      ]
    },
    {
      "cell_type": "markdown",
      "metadata": {
        "id": "NavxSQ69TtM-",
        "colab_type": "text"
      },
      "source": [
        "Sekarang kita akan coba menggunakan Bidirectional LSTM. `tf.keras` sudah menyiapkan layer khusus yang langsung bisa digunakan, yaitu `tf.keras.layers.Bidirectional`. Terlihat bahwa jumlah parameter pada layer bidirectional tepat 2 kali jumlah parameter di LSTM biasa."
      ]
    },
    {
      "cell_type": "code",
      "metadata": {
        "id": "3YIyVTI5l1TZ",
        "colab_type": "code",
        "outputId": "75acccaf-5f85-4967-f720-ea3d8b4cf2c9",
        "colab": {
          "base_uri": "https://localhost:8080/",
          "height": 462
        }
      },
      "source": [
        "model_bi = tf.keras.Sequential([\n",
        "    tf.keras.layers.Embedding(vocab_size, embedding_dim),\n",
        "    tf.keras.layers.Bidirectional(tf.keras.layers.LSTM(embedding_dim)),\n",
        "    tf.keras.layers.Dense(embedding_dim, activation='relu'),\n",
        "    tf.keras.layers.Dense(6, activation='softmax')\n",
        "])\n",
        "model_bi.summary()"
      ],
      "execution_count": 0,
      "outputs": [
        {
          "output_type": "stream",
          "text": [
            "WARNING:tensorflow:From /usr/local/lib/python3.6/dist-packages/tensorflow_core/python/ops/init_ops.py:97: calling GlorotUniform.__init__ (from tensorflow.python.ops.init_ops) with dtype is deprecated and will be removed in a future version.\n",
            "Instructions for updating:\n",
            "Call initializer instance with the dtype argument instead of passing it to the constructor\n",
            "WARNING:tensorflow:From /usr/local/lib/python3.6/dist-packages/tensorflow_core/python/ops/init_ops.py:97: calling Orthogonal.__init__ (from tensorflow.python.ops.init_ops) with dtype is deprecated and will be removed in a future version.\n",
            "Instructions for updating:\n",
            "Call initializer instance with the dtype argument instead of passing it to the constructor\n",
            "WARNING:tensorflow:From /usr/local/lib/python3.6/dist-packages/tensorflow_core/python/ops/init_ops.py:97: calling Zeros.__init__ (from tensorflow.python.ops.init_ops) with dtype is deprecated and will be removed in a future version.\n",
            "Instructions for updating:\n",
            "Call initializer instance with the dtype argument instead of passing it to the constructor\n",
            "Model: \"sequential_1\"\n",
            "_________________________________________________________________\n",
            "Layer (type)                 Output Shape              Param #   \n",
            "=================================================================\n",
            "embedding_1 (Embedding)      (None, None, 64)          320000    \n",
            "_________________________________________________________________\n",
            "bidirectional (Bidirectional (None, 128)               66048     \n",
            "_________________________________________________________________\n",
            "dense_2 (Dense)              (None, 64)                8256      \n",
            "_________________________________________________________________\n",
            "dense_3 (Dense)              (None, 6)                 390       \n",
            "=================================================================\n",
            "Total params: 394,694\n",
            "Trainable params: 394,694\n",
            "Non-trainable params: 0\n",
            "_________________________________________________________________\n"
          ],
          "name": "stdout"
        }
      ]
    },
    {
      "cell_type": "code",
      "metadata": {
        "id": "kBMocRcmp9HC",
        "colab_type": "code",
        "outputId": "6761abe5-ced7-4ee5-a3e7-a490031cf1e7",
        "colab": {
          "base_uri": "https://localhost:8080/",
          "height": 374
        }
      },
      "source": [
        "model_bi.compile(loss='sparse_categorical_crossentropy', optimizer='adam', metrics=['accuracy'])\n",
        "history = model_bi.fit(train_padded, training_label_seq, epochs=num_epochs, validation_data=(validation_padded, validation_label_seq), verbose=2)"
      ],
      "execution_count": 0,
      "outputs": [
        {
          "output_type": "stream",
          "text": [
            "Train on 1780 samples, validate on 445 samples\n",
            "Epoch 1/10\n",
            "1780/1780 - 32s - loss: 1.6065 - acc: 0.3107 - val_loss: 1.2205 - val_acc: 0.5640\n",
            "Epoch 2/10\n",
            "1780/1780 - 31s - loss: 0.8530 - acc: 0.7006 - val_loss: 1.3857 - val_acc: 0.6247\n",
            "Epoch 3/10\n",
            "1780/1780 - 31s - loss: 0.8420 - acc: 0.7258 - val_loss: 0.5426 - val_acc: 0.8449\n",
            "Epoch 4/10\n",
            "1780/1780 - 31s - loss: 0.3269 - acc: 0.9084 - val_loss: 0.3704 - val_acc: 0.8764\n",
            "Epoch 5/10\n",
            "1780/1780 - 32s - loss: 0.1662 - acc: 0.9511 - val_loss: 0.4758 - val_acc: 0.8247\n",
            "Epoch 6/10\n",
            "1780/1780 - 32s - loss: 0.1346 - acc: 0.9652 - val_loss: 0.3574 - val_acc: 0.8899\n",
            "Epoch 7/10\n",
            "1780/1780 - 31s - loss: 0.1543 - acc: 0.9438 - val_loss: 0.3146 - val_acc: 0.9034\n",
            "Epoch 8/10\n",
            "1780/1780 - 31s - loss: 0.0358 - acc: 0.9972 - val_loss: 0.2835 - val_acc: 0.9213\n",
            "Epoch 9/10\n",
            "1780/1780 - 31s - loss: 0.0092 - acc: 0.9994 - val_loss: 0.2968 - val_acc: 0.9191\n",
            "Epoch 10/10\n",
            "1780/1780 - 31s - loss: 0.0086 - acc: 0.9983 - val_loss: 0.3175 - val_acc: 0.9191\n"
          ],
          "name": "stdout"
        }
      ]
    },
    {
      "cell_type": "code",
      "metadata": {
        "id": "5ZT12ZikqJmL",
        "colab_type": "code",
        "outputId": "f617a416-9693-4dda-a50a-0761f2fe7a1a",
        "colab": {
          "base_uri": "https://localhost:8080/",
          "height": 541
        }
      },
      "source": [
        "plot_graphs(history, \"acc\")\n",
        "plot_graphs(history, \"loss\")"
      ],
      "execution_count": 0,
      "outputs": [
        {
          "output_type": "display_data",
          "data": {
            "image/png": "[encoded data removed]",
            "text/plain": [
              "<Figure size 432x288 with 1 Axes>"
            ]
          },
          "metadata": {
            "tags": []
          }
        },
        {
          "output_type": "display_data",
          "data": {
            "image/png": "[encoded data removed]",
            "text/plain": [
              "<Figure size 432x288 with 1 Axes>"
            ]
          },
          "metadata": {
            "tags": []
          }
        }
      ]
    },
    {
      "cell_type": "markdown",
      "metadata": {
        "id": "YDhJ8JcFvF4J",
        "colab_type": "text"
      },
      "source": [
        "## CNN"
      ]
    },
    {
      "cell_type": "markdown",
      "metadata": {
        "id": "I9-4yOVaUWK9",
        "colab_type": "text"
      },
      "source": [
        "Salah satu alasan menggunakan Bidirectional adalah perlunya kemampuan melihat input di depan (tidak hanya input sebelumnya). Maka Bidirectional bukan satu-satunya alternatif. CNN juga bisa menjadi alternatif karena CNN akan melihat beberapa input sebelum dan sesudah berdasarkan size filter yang diberikan.  \n",
        "  \n",
        "Di bawah ini, kita coba menggunakan jumlah filter sebanyak 128 dengan ukuran kernel 5."
      ]
    },
    {
      "cell_type": "code",
      "metadata": {
        "id": "cQR8NCrasf6f",
        "colab_type": "code",
        "outputId": "593da248-465e-439a-af7c-d044a51bb6d3",
        "colab": {
          "base_uri": "https://localhost:8080/",
          "height": 323
        }
      },
      "source": [
        "model_cnn = tf.keras.Sequential([\n",
        "    tf.keras.layers.Embedding(vocab_size, embedding_dim,\n",
        "                             input_length=max_length),\n",
        "    # specify the number of convolutions that you want to learn, their size, and their activation function.\n",
        "    # words will be grouped into the size of the filter in this case 5\n",
        "    tf.keras.layers.Conv1D(128, 5, activation='relu'),\n",
        "    tf.keras.layers.GlobalAveragePooling1D(),\n",
        "    tf.keras.layers.Dense(64, activation='relu'),\n",
        "    tf.keras.layers.Dense(6, activation='softmax')\n",
        "])\n",
        "model_cnn.summary()"
      ],
      "execution_count": 0,
      "outputs": [
        {
          "output_type": "stream",
          "text": [
            "Model: \"sequential_2\"\n",
            "_________________________________________________________________\n",
            "Layer (type)                 Output Shape              Param #   \n",
            "=================================================================\n",
            "embedding_2 (Embedding)      (None, 200, 64)           320000    \n",
            "_________________________________________________________________\n",
            "conv1d (Conv1D)              (None, 196, 128)          41088     \n",
            "_________________________________________________________________\n",
            "global_average_pooling1d (Gl (None, 128)               0         \n",
            "_________________________________________________________________\n",
            "dense_4 (Dense)              (None, 64)                8256      \n",
            "_________________________________________________________________\n",
            "dense_5 (Dense)              (None, 6)                 390       \n",
            "=================================================================\n",
            "Total params: 369,734\n",
            "Trainable params: 369,734\n",
            "Non-trainable params: 0\n",
            "_________________________________________________________________\n"
          ],
          "name": "stdout"
        }
      ]
    },
    {
      "cell_type": "code",
      "metadata": {
        "id": "2RQtIMMFvL2v",
        "colab_type": "code",
        "outputId": "fe8b80a9-5de3-4893-acd2-6ccdefa47541",
        "colab": {
          "base_uri": "https://localhost:8080/",
          "height": 374
        }
      },
      "source": [
        "model_cnn.compile(loss='sparse_categorical_crossentropy', optimizer='adam', metrics=['accuracy'])\n",
        "history = model_cnn.fit(train_padded, training_label_seq, epochs=num_epochs, validation_data=(validation_padded, validation_label_seq), verbose=2)"
      ],
      "execution_count": 0,
      "outputs": [
        {
          "output_type": "stream",
          "text": [
            "Train on 1780 samples, validate on 445 samples\n",
            "Epoch 1/10\n",
            "1780/1780 - 1s - loss: 1.5580 - acc: 0.4360 - val_loss: 1.1547 - val_acc: 0.7056\n",
            "Epoch 2/10\n",
            "1780/1780 - 0s - loss: 0.6410 - acc: 0.8517 - val_loss: 0.3056 - val_acc: 0.9326\n",
            "Epoch 3/10\n",
            "1780/1780 - 0s - loss: 0.1284 - acc: 0.9820 - val_loss: 0.1541 - val_acc: 0.9596\n",
            "Epoch 4/10\n",
            "1780/1780 - 0s - loss: 0.0375 - acc: 0.9978 - val_loss: 0.1074 - val_acc: 0.9708\n",
            "Epoch 5/10\n",
            "1780/1780 - 0s - loss: 0.0162 - acc: 0.9994 - val_loss: 0.1019 - val_acc: 0.9753\n",
            "Epoch 6/10\n",
            "1780/1780 - 0s - loss: 0.0080 - acc: 1.0000 - val_loss: 0.0975 - val_acc: 0.9708\n",
            "Epoch 7/10\n",
            "1780/1780 - 0s - loss: 0.0049 - acc: 1.0000 - val_loss: 0.1025 - val_acc: 0.9730\n",
            "Epoch 8/10\n",
            "1780/1780 - 0s - loss: 0.0033 - acc: 1.0000 - val_loss: 0.0976 - val_acc: 0.9730\n",
            "Epoch 9/10\n",
            "1780/1780 - 0s - loss: 0.0024 - acc: 1.0000 - val_loss: 0.0940 - val_acc: 0.9730\n",
            "Epoch 10/10\n",
            "1780/1780 - 0s - loss: 0.0018 - acc: 1.0000 - val_loss: 0.0935 - val_acc: 0.9753\n"
          ],
          "name": "stdout"
        }
      ]
    },
    {
      "cell_type": "markdown",
      "metadata": {
        "id": "okxgga5WVVhz",
        "colab_type": "text"
      },
      "source": [
        "Dari plot, kita bisa lihat bahwa hasilnya hampir sama dengan model BiLSTM bahkan terlihat sedikit lebih baik."
      ]
    },
    {
      "cell_type": "code",
      "metadata": {
        "id": "lrLBtfH-vacD",
        "colab_type": "code",
        "outputId": "c2ebdd30-e77e-494a-d024-02387946c22b",
        "colab": {
          "base_uri": "https://localhost:8080/",
          "height": 541
        }
      },
      "source": [
        "plot_graphs(history, \"acc\")\n",
        "plot_graphs(history, \"loss\")"
      ],
      "execution_count": 0,
      "outputs": [
        {
          "output_type": "display_data",
          "data": {
            "image/png": "[encoded data removed]",
            "text/plain": [
              "<Figure size 432x288 with 1 Axes>"
            ]
          },
          "metadata": {
            "tags": []
          }
        },
        {
          "output_type": "display_data",
          "data": {
            "image/png": "[encoded data removed]",
            "text/plain": [
              "<Figure size 432x288 with 1 Axes>"
            ]
          },
          "metadata": {
            "tags": []
          }
        }
      ]
    },
    {
      "cell_type": "markdown",
      "metadata": {
        "id": "3pfNJKstwvjR",
        "colab_type": "text"
      },
      "source": [
        "## Glove+CNN+LSTM"
      ]
    },
    {
      "cell_type": "markdown",
      "metadata": {
        "id": "OloQ7-frVrAB",
        "colab_type": "text"
      },
      "source": [
        "Kali ini kita coba untuk menggabungkan beberapa komponen, yaitu menggunakan `pretrained embedding matrix`, bisa menggunakan word2vec, namun di sini kita coba menggunakan Glove. Info tentang Glove: https://nlp.stanford.edu/projects/glove/. Ada beberapa pilihan Glove, kita coba menggunakan 100 dimensi.\n",
        "\n",
        "Lalu kita tambahkan CNN dan LSTM setelahnya."
      ]
    },
    {
      "cell_type": "code",
      "metadata": {
        "id": "KcSHcYBOzOHm",
        "colab_type": "code",
        "colab": {}
      },
      "source": [
        "word_index = tokenizer.word_index\n",
        "vocab_size=len(word_index)\n",
        "embedding_dim = 100"
      ],
      "execution_count": 0,
      "outputs": []
    },
    {
      "cell_type": "markdown",
      "metadata": {
        "id": "e4HRAgALWQNt",
        "colab_type": "text"
      },
      "source": [
        "Bentuk `embeddings_matrix` yang hanya berisi vektor kata yang ada dalam kamus dataset yang kita gunakan saat ini (BBC train)."
      ]
    },
    {
      "cell_type": "code",
      "metadata": {
        "id": "vjd5K5yd0ADl",
        "colab_type": "code",
        "colab": {}
      },
      "source": [
        "embeddings_index = {};\n",
        "with open('glove.6B.100d.txt') as f:\n",
        "    for line in f:\n",
        "        values = line.split();\n",
        "        word = values[0];\n",
        "        coefs = np.asarray(values[1:], dtype='float32')\n",
        "        embeddings_index[word] = coefs;\n",
        "\n",
        "\n",
        "\n",
        "embeddings_matrix = np.zeros((vocab_size+1, embedding_dim))\n",
        "for word, i in word_index.items():\n",
        "    embedding_vector = embeddings_index.get(word)\n",
        "    if embedding_vector is not None:\n",
        "        embeddings_matrix[i] = embedding_vector"
      ],
      "execution_count": 0,
      "outputs": []
    },
    {
      "cell_type": "markdown",
      "metadata": {
        "id": "9Fx_e5YrWp8J",
        "colab_type": "text"
      },
      "source": [
        "Karena kita sudah menggunakan pretrained embeddings matrix, maka kita bisa set agar tidak mengupdate/learn weights nya. Set `trainable=False`.  \n",
        "Dari summary model terlihat bahwa meskipun jumlah total parameter jauh lebih banyak dari model-model sebelumnya, namun yang ditrain jauh lebih sedikit."
      ]
    },
    {
      "cell_type": "code",
      "metadata": {
        "id": "UoOjhEA50Xq4",
        "colab_type": "code",
        "outputId": "2f937fa7-b331-45fb-fa57-0b4a75ff16f2",
        "colab": {
          "base_uri": "https://localhost:8080/",
          "height": 357
        }
      },
      "source": [
        "model_combi = tf.keras.Sequential([\n",
        "    tf.keras.layers.Embedding(vocab_size+1, embedding_dim, input_length=max_length, weights=[embeddings_matrix], trainable=False),\n",
        "    tf.keras.layers.Dropout(0.2),\n",
        "    tf.keras.layers.Conv1D(64, 5, activation='relu'),\n",
        "    tf.keras.layers.MaxPooling1D(pool_size=4),\n",
        "    tf.keras.layers.LSTM(64),\n",
        "    tf.keras.layers.Dense(6, activation='softmax')\n",
        "])\n",
        "model_combi.compile(loss='sparse_categorical_crossentropy',optimizer='adam',metrics=['accuracy'])\n",
        "model_combi.summary()"
      ],
      "execution_count": 0,
      "outputs": [
        {
          "output_type": "stream",
          "text": [
            "Model: \"sequential_3\"\n",
            "_________________________________________________________________\n",
            "Layer (type)                 Output Shape              Param #   \n",
            "=================================================================\n",
            "embedding_3 (Embedding)      (None, 200, 100)          2755700   \n",
            "_________________________________________________________________\n",
            "dropout (Dropout)            (None, 200, 100)          0         \n",
            "_________________________________________________________________\n",
            "conv1d_1 (Conv1D)            (None, 196, 64)           32064     \n",
            "_________________________________________________________________\n",
            "max_pooling1d (MaxPooling1D) (None, 49, 64)            0         \n",
            "_________________________________________________________________\n",
            "lstm_2 (LSTM)                (None, 64)                33024     \n",
            "_________________________________________________________________\n",
            "dense_6 (Dense)              (None, 6)                 390       \n",
            "=================================================================\n",
            "Total params: 2,821,178\n",
            "Trainable params: 65,478\n",
            "Non-trainable params: 2,755,700\n",
            "_________________________________________________________________\n"
          ],
          "name": "stdout"
        }
      ]
    },
    {
      "cell_type": "code",
      "metadata": {
        "id": "rHIW1g-b03L0",
        "colab_type": "code",
        "outputId": "1bb270c3-0729-40da-c238-cf7eeb20c443",
        "colab": {
          "base_uri": "https://localhost:8080/",
          "height": 374
        }
      },
      "source": [
        "model_combi.compile(loss='sparse_categorical_crossentropy', optimizer='adam', metrics=['accuracy'])\n",
        "history = model_combi.fit(train_padded, training_label_seq, epochs=num_epochs, validation_data=(validation_padded, validation_label_seq), verbose=2)"
      ],
      "execution_count": 0,
      "outputs": [
        {
          "output_type": "stream",
          "text": [
            "Train on 1780 samples, validate on 445 samples\n",
            "Epoch 1/10\n",
            "1780/1780 - 5s - loss: 1.1012 - acc: 0.6191 - val_loss: 0.3283 - val_acc: 0.8989\n",
            "Epoch 2/10\n",
            "1780/1780 - 4s - loss: 0.3666 - acc: 0.8826 - val_loss: 0.4626 - val_acc: 0.8472\n",
            "Epoch 3/10\n",
            "1780/1780 - 4s - loss: 0.2540 - acc: 0.9264 - val_loss: 0.2185 - val_acc: 0.9348\n",
            "Epoch 4/10\n",
            "1780/1780 - 4s - loss: 0.2155 - acc: 0.9326 - val_loss: 0.2322 - val_acc: 0.9281\n",
            "Epoch 5/10\n",
            "1780/1780 - 4s - loss: 0.1918 - acc: 0.9393 - val_loss: 0.1975 - val_acc: 0.9416\n",
            "Epoch 6/10\n",
            "1780/1780 - 4s - loss: 0.1827 - acc: 0.9433 - val_loss: 0.1324 - val_acc: 0.9573\n",
            "Epoch 7/10\n",
            "1780/1780 - 4s - loss: 0.1534 - acc: 0.9500 - val_loss: 0.1596 - val_acc: 0.9596\n",
            "Epoch 8/10\n",
            "1780/1780 - 4s - loss: 0.1236 - acc: 0.9601 - val_loss: 0.1528 - val_acc: 0.9551\n",
            "Epoch 9/10\n",
            "1780/1780 - 4s - loss: 0.0904 - acc: 0.9697 - val_loss: 0.1221 - val_acc: 0.9618\n",
            "Epoch 10/10\n",
            "1780/1780 - 4s - loss: 0.0764 - acc: 0.9719 - val_loss: 0.1037 - val_acc: 0.9663\n"
          ],
          "name": "stdout"
        }
      ]
    },
    {
      "cell_type": "markdown",
      "metadata": {
        "id": "OG7gbVvjXUD6",
        "colab_type": "text"
      },
      "source": [
        "Salah satu perbedaan yang terlihat adalah, hasil akurasi validasi pada epoch 1 sudah >80%, dibanding model sebelumnya yang berkisar 50%. Hal ini merupakan efek penggunaan pretrained word embeddings."
      ]
    },
    {
      "cell_type": "code",
      "metadata": {
        "id": "zKqtsRkX1H1b",
        "colab_type": "code",
        "outputId": "9cbc379a-aae7-4c23-a309-9ba7d0eed85b",
        "colab": {
          "base_uri": "https://localhost:8080/",
          "height": 541
        }
      },
      "source": [
        "plot_graphs(history, \"acc\")\n",
        "plot_graphs(history, \"loss\")"
      ],
      "execution_count": 0,
      "outputs": [
        {
          "output_type": "display_data",
          "data": {
            "image/png": "[encoded data removed]",
            "text/plain": [
              "<Figure size 432x288 with 1 Axes>"
            ]
          },
          "metadata": {
            "tags": []
          }
        },
        {
          "output_type": "display_data",
          "data": {
            "image/png": "[encoded data removed]",
            "text/plain": [
              "<Figure size 432x288 with 1 Axes>"
            ]
          },
          "metadata": {
            "tags": []
          }
        }
      ]
    },
    {
      "cell_type": "markdown",
      "metadata": {
        "id": "w0Asl9BBG0hE",
        "colab_type": "text"
      },
      "source": [
        "## Transformers"
      ]
    },
    {
      "cell_type": "markdown",
      "metadata": {
        "id": "eqnXgprxXxY6",
        "colab_type": "text"
      },
      "source": [
        "Terakhir, mari kita coba menggunakan pretrained contextual word embeddings. Transformers menyediakan banyak sekali pilihan."
      ]
    },
    {
      "cell_type": "markdown",
      "metadata": {
        "id": "tFNNk7BQHME4",
        "colab_type": "text"
      },
      "source": [
        "Install transformers dari huggingface https://huggingface.co/."
      ]
    },
    {
      "cell_type": "code",
      "metadata": {
        "id": "P-t4M8yK9z4M",
        "colab_type": "code",
        "outputId": "1442d198-fe0c-4e28-ed4a-4b751bbd5d18",
        "colab": {
          "base_uri": "https://localhost:8080/",
          "height": 666
        }
      },
      "source": [
        "!pip install transformers"
      ],
      "execution_count": 0,
      "outputs": [
        {
          "output_type": "stream",
          "text": [
            "Collecting transformers\n",
            "\u001b[?25l  Downloading https://files.pythonhosted.org/packages/13/33/ffb67897a6985a7b7d8e5e7878c3628678f553634bd3836404fef06ef19b/transformers-2.5.1-py3-none-any.whl (499kB)\n",
            "\r\u001b[K     |▋                               | 10kB 26.9MB/s eta 0:00:01\r\u001b[K     |█▎                              | 20kB 1.7MB/s eta 0:00:01\r\u001b[K     |██                              | 30kB 2.5MB/s eta 0:00:01\r\u001b[K     |██▋                             | 40kB 1.6MB/s eta 0:00:01\r\u001b[K     |███▎                            | 51kB 1.9MB/s eta 0:00:01\r\u001b[K     |████                            | 61kB 2.2MB/s eta 0:00:01\r\u001b[K     |████▋                           | 71kB 2.4MB/s eta 0:00:01\r\u001b[K     |█████▎                          | 81kB 2.5MB/s eta 0:00:01\r\u001b[K     |██████                          | 92kB 2.8MB/s eta 0:00:01\r\u001b[K     |██████▋                         | 102kB 2.7MB/s eta 0:00:01\r\u001b[K     |███████▏                        | 112kB 2.7MB/s eta 0:00:01\r\u001b[K     |███████▉                        | 122kB 2.7MB/s eta 0:00:01\r\u001b[K     |████████▌                       | 133kB 2.7MB/s eta 0:00:01\r\u001b[K     |█████████▏                      | 143kB 2.7MB/s eta 0:00:01\r\u001b[K     |█████████▉                      | 153kB 2.7MB/s eta 0:00:01\r\u001b[K     |██████████▌                     | 163kB 2.7MB/s eta 0:00:01\r\u001b[K     |███████████▏                    | 174kB 2.7MB/s eta 0:00:01\r\u001b[K     |███████████▉                    | 184kB 2.7MB/s eta 0:00:01\r\u001b[K     |████████████▌                   | 194kB 2.7MB/s eta 0:00:01\r\u001b[K     |█████████████▏                  | 204kB 2.7MB/s eta 0:00:01\r\u001b[K     |█████████████▉                  | 215kB 2.7MB/s eta 0:00:01\r\u001b[K     |██████████████▍                 | 225kB 2.7MB/s eta 0:00:01\r\u001b[K     |███████████████                 | 235kB 2.7MB/s eta 0:00:01\r\u001b[K     |███████████████▊                | 245kB 2.7MB/s eta 0:00:01\r\u001b[K     |████████████████▍               | 256kB 2.7MB/s eta 0:00:01\r\u001b[K     |█████████████████               | 266kB 2.7MB/s eta 0:00:01\r\u001b[K     |█████████████████▊              | 276kB 2.7MB/s eta 0:00:01\r\u001b[K     |██████████████████▍             | 286kB 2.7MB/s eta 0:00:01\r\u001b[K     |███████████████████             | 296kB 2.7MB/s eta 0:00:01\r\u001b[K     |███████████████████▊            | 307kB 2.7MB/s eta 0:00:01\r\u001b[K     |████████████████████▍           | 317kB 2.7MB/s eta 0:00:01\r\u001b[K     |█████████████████████           | 327kB 2.7MB/s eta 0:00:01\r\u001b[K     |█████████████████████▋          | 337kB 2.7MB/s eta 0:00:01\r\u001b[K     |██████████████████████▎         | 348kB 2.7MB/s eta 0:00:01\r\u001b[K     |███████████████████████         | 358kB 2.7MB/s eta 0:00:01\r\u001b[K     |███████████████████████▋        | 368kB 2.7MB/s eta 0:00:01\r\u001b[K     |████████████████████████▎       | 378kB 2.7MB/s eta 0:00:01\r\u001b[K     |█████████████████████████       | 389kB 2.7MB/s eta 0:00:01\r\u001b[K     |█████████████████████████▋      | 399kB 2.7MB/s eta 0:00:01\r\u001b[K     |██████████████████████████▎     | 409kB 2.7MB/s eta 0:00:01\r\u001b[K     |███████████████████████████     | 419kB 2.7MB/s eta 0:00:01\r\u001b[K     |███████████████████████████▋    | 430kB 2.7MB/s eta 0:00:01\r\u001b[K     |████████████████████████████▏   | 440kB 2.7MB/s eta 0:00:01\r\u001b[K     |████████████████████████████▉   | 450kB 2.7MB/s eta 0:00:01\r\u001b[K     |█████████████████████████████▌  | 460kB 2.7MB/s eta 0:00:01\r\u001b[K     |██████████████████████████████▏ | 471kB 2.7MB/s eta 0:00:01\r\u001b[K     |██████████████████████████████▉ | 481kB 2.7MB/s eta 0:00:01\r\u001b[K     |███████████████████████████████▌| 491kB 2.7MB/s eta 0:00:01\r\u001b[K     |████████████████████████████████| 501kB 2.7MB/s \n",
            "\u001b[?25hRequirement already satisfied: regex!=2019.12.17 in /usr/local/lib/python3.6/dist-packages (from transformers) (2019.12.20)\n",
            "Requirement already satisfied: boto3 in /usr/local/lib/python3.6/dist-packages (from transformers) (1.11.15)\n",
            "Requirement already satisfied: tqdm>=4.27 in /usr/local/lib/python3.6/dist-packages (from transformers) (4.28.1)\n",
            "Requirement already satisfied: numpy in /usr/local/lib/python3.6/dist-packages (from transformers) (1.17.5)\n",
            "Collecting tokenizers==0.5.2\n",
            "\u001b[?25l  Downloading https://files.pythonhosted.org/packages/d1/3f/73c881ea4723e43c1e9acf317cf407fab3a278daab3a69c98dcac511c04f/tokenizers-0.5.2-cp36-cp36m-manylinux1_x86_64.whl (3.7MB)\n",
            "\u001b[K     |████████████████████████████████| 3.7MB 13.3MB/s \n",
            "\u001b[?25hRequirement already satisfied: filelock in /usr/local/lib/python3.6/dist-packages (from transformers) (3.0.12)\n",
            "Requirement already satisfied: requests in /usr/local/lib/python3.6/dist-packages (from transformers) (2.21.0)\n",
            "Collecting sacremoses\n",
            "\u001b[?25l  Downloading https://files.pythonhosted.org/packages/a6/b4/7a41d630547a4afd58143597d5a49e07bfd4c42914d8335b2a5657efc14b/sacremoses-0.0.38.tar.gz (860kB)\n",
            "\u001b[K     |████████████████████████████████| 870kB 37.2MB/s \n",
            "\u001b[?25hCollecting sentencepiece\n",
            "\u001b[?25l  Downloading https://files.pythonhosted.org/packages/74/f4/2d5214cbf13d06e7cb2c20d84115ca25b53ea76fa1f0ade0e3c9749de214/sentencepiece-0.1.85-cp36-cp36m-manylinux1_x86_64.whl (1.0MB)\n",
            "\u001b[K     |████████████████████████████████| 1.0MB 24.4MB/s \n",
            "\u001b[?25hRequirement already satisfied: s3transfer<0.4.0,>=0.3.0 in /usr/local/lib/python3.6/dist-packages (from boto3->transformers) (0.3.3)\n",
            "Requirement already satisfied: botocore<1.15.0,>=1.14.15 in /usr/local/lib/python3.6/dist-packages (from boto3->transformers) (1.14.15)\n",
            "Requirement already satisfied: jmespath<1.0.0,>=0.7.1 in /usr/local/lib/python3.6/dist-packages (from boto3->transformers) (0.9.4)\n",
            "Requirement already satisfied: idna<2.9,>=2.5 in /usr/local/lib/python3.6/dist-packages (from requests->transformers) (2.8)\n",
            "Requirement already satisfied: chardet<3.1.0,>=3.0.2 in /usr/local/lib/python3.6/dist-packages (from requests->transformers) (3.0.4)\n",
            "Requirement already satisfied: urllib3<1.25,>=1.21.1 in /usr/local/lib/python3.6/dist-packages (from requests->transformers) (1.24.3)\n",
            "Requirement already satisfied: certifi>=2017.4.17 in /usr/local/lib/python3.6/dist-packages (from requests->transformers) (2019.11.28)\n",
            "Requirement already satisfied: six in /usr/local/lib/python3.6/dist-packages (from sacremoses->transformers) (1.12.0)\n",
            "Requirement already satisfied: click in /usr/local/lib/python3.6/dist-packages (from sacremoses->transformers) (7.0)\n",
            "Requirement already satisfied: joblib in /usr/local/lib/python3.6/dist-packages (from sacremoses->transformers) (0.14.1)\n",
            "Requirement already satisfied: docutils<0.16,>=0.10 in /usr/local/lib/python3.6/dist-packages (from botocore<1.15.0,>=1.14.15->boto3->transformers) (0.15.2)\n",
            "Requirement already satisfied: python-dateutil<3.0.0,>=2.1 in /usr/local/lib/python3.6/dist-packages (from botocore<1.15.0,>=1.14.15->boto3->transformers) (2.6.1)\n",
            "Building wheels for collected packages: sacremoses\n",
            "  Building wheel for sacremoses (setup.py) ... \u001b[?25l\u001b[?25hdone\n",
            "  Created wheel for sacremoses: filename=sacremoses-0.0.38-cp36-none-any.whl size=884628 sha256=383810aba94b573e4aa766b0a23d461fb6a721054f90c063b3e933805bf300f8\n",
            "  Stored in directory: /root/.cache/pip/wheels/6d/ec/1a/21b8912e35e02741306f35f66c785f3afe94de754a0eaf1422\n",
            "Successfully built sacremoses\n",
            "Installing collected packages: tokenizers, sacremoses, sentencepiece, transformers\n",
            "Successfully installed sacremoses-0.0.38 sentencepiece-0.1.85 tokenizers-0.5.2 transformers-2.5.1\n"
          ],
          "name": "stdout"
        }
      ]
    },
    {
      "cell_type": "markdown",
      "metadata": {
        "id": "psxejKxaHVA_",
        "colab_type": "text"
      },
      "source": [
        "Import beberapa library yang dibutuhkan."
      ]
    },
    {
      "cell_type": "code",
      "metadata": {
        "id": "uP6XBDjE1WYD",
        "colab_type": "code",
        "colab": {}
      },
      "source": [
        "import torch\n",
        "import transformers as tfm # pytorch transformers\n",
        "from sklearn.linear_model import LogisticRegression"
      ],
      "execution_count": 0,
      "outputs": []
    },
    {
      "cell_type": "markdown",
      "metadata": {
        "id": "O3YDI3q9IbGQ",
        "colab_type": "text"
      },
      "source": [
        "Ada banyak model transformer yang bisa digunakan, saat ini kita coba menggunakan distilBERT. Model lainnya dapat dilihat di https://huggingface.co/transformers/pretrained_models.html"
      ]
    },
    {
      "cell_type": "code",
      "metadata": {
        "id": "A7G0Abvj9lWS",
        "colab_type": "code",
        "colab": {}
      },
      "source": [
        "model_class, tokenizer_class, pretrained_weights = (tfm.DistilBertModel, tfm.DistilBertTokenizer, 'distilbert-base-uncased')"
      ],
      "execution_count": 0,
      "outputs": []
    },
    {
      "cell_type": "markdown",
      "metadata": {
        "id": "yK0QISwPIw0R",
        "colab_type": "text"
      },
      "source": [
        "Load tokenizer dan juga model."
      ]
    },
    {
      "cell_type": "code",
      "metadata": {
        "id": "lV9JkIOK-1FE",
        "colab_type": "code",
        "outputId": "770ffdad-e365-4e7e-8493-d6e0cd1907a2",
        "colab": {
          "base_uri": "https://localhost:8080/",
          "height": 164,
          "referenced_widgets": [
            "93201db070db40f99e24764bc5e202d8",
            "e8ef57623e56485b870db97752fd243d",
            "f97c8bebd18043e6b98ef5253a06114e",
            "9798d7d7747d49ada34b52f74b10b054",
            "0c4bdb5c52dd494688a993abac7ca598",
            "5419c1e351f14d8084a1c893bfc4a9c7",
            "e612d1bd097b4b10943662e24c06ccdc",
            "423b7306cf044754a3b3de8706debe5a",
            "7e40b67ddfe14c68885054b871bdf143",
            "13e72457bfda42cbb30653d03272c95e",
            "d5110c2231e845ce94a961b0efd87409",
            "aaedc340fb6e473bb4f214c86375b580",
            "ad2d1a9580eb4aa69c2fa7551991445f",
            "142a62f946284af480ebe1fc8e6700c3",
            "12de9c26deb746b89f22aaa00aa8d6b9",
            "1ca14045e7f84dd7a0076fb7b73002f5",
            "f0ac54a2580c46b393a5d34a65a586c0",
            "83994984d6a846e284b9ea9a830141b4",
            "5d9f98b0a95c497bb1ffff2fca5d5271",
            "245a3ed31b24409e9c2c73f0a9dfd28d",
            "aa1a984f0d1f4049b70f68be67dd9646",
            "9deddca5adf94cfca6a0cea38ed03480",
            "befde13434924515a9e541a86a54381a",
            "114409ef2dc94c9d942e154bb9768ce6"
          ]
        }
      },
      "source": [
        "tokenizer = tokenizer_class.from_pretrained(pretrained_weights)\n",
        "model = model_class.from_pretrained(pretrained_weights)"
      ],
      "execution_count": 0,
      "outputs": [
        {
          "output_type": "display_data",
          "data": {
            "application/vnd.jupyter.widget-view+json": {
              "model_id": "93201db070db40f99e24764bc5e202d8",
              "version_minor": 0,
              "version_major": 2
            },
            "text/plain": [
              "HBox(children=(IntProgress(value=0, description='Downloading', max=231508, style=ProgressStyle(description_wid…"
            ]
          },
          "metadata": {
            "tags": []
          }
        },
        {
          "output_type": "stream",
          "text": [
            "\n"
          ],
          "name": "stdout"
        },
        {
          "output_type": "display_data",
          "data": {
            "application/vnd.jupyter.widget-view+json": {
              "model_id": "7e40b67ddfe14c68885054b871bdf143",
              "version_minor": 0,
              "version_major": 2
            },
            "text/plain": [
              "HBox(children=(IntProgress(value=0, description='Downloading', max=546, style=ProgressStyle(description_width=…"
            ]
          },
          "metadata": {
            "tags": []
          }
        },
        {
          "output_type": "stream",
          "text": [
            "\n"
          ],
          "name": "stdout"
        },
        {
          "output_type": "display_data",
          "data": {
            "application/vnd.jupyter.widget-view+json": {
              "model_id": "f0ac54a2580c46b393a5d34a65a586c0",
              "version_minor": 0,
              "version_major": 2
            },
            "text/plain": [
              "HBox(children=(IntProgress(value=0, description='Downloading', max=267967963, style=ProgressStyle(description_…"
            ]
          },
          "metadata": {
            "tags": []
          }
        },
        {
          "output_type": "stream",
          "text": [
            "\n"
          ],
          "name": "stdout"
        }
      ]
    },
    {
      "cell_type": "markdown",
      "metadata": {
        "id": "MKBBveH7I0ps",
        "colab_type": "text"
      },
      "source": [
        "Tokenize train_set dan juga validation_set. "
      ]
    },
    {
      "cell_type": "code",
      "metadata": {
        "id": "fTQi47we-CYp",
        "colab_type": "code",
        "outputId": "2f5c642e-6604-4a0c-fd46-2a30f63626bf",
        "colab": {
          "base_uri": "https://localhost:8080/",
          "height": 955
        }
      },
      "source": [
        "train_sequences = train_set['text'].apply((lambda x: tokenizer.encode(x, add_special_tokens=True)))"
      ],
      "execution_count": 0,
      "outputs": [
        {
          "output_type": "stream",
          "text": [
            "Token indices sequence length is longer than the specified maximum sequence length for this model (761 > 512). Running this sequence through the model will result in indexing errors\n",
            "Token indices sequence length is longer than the specified maximum sequence length for this model (527 > 512). Running this sequence through the model will result in indexing errors\n",
            "Token indices sequence length is longer than the specified maximum sequence length for this model (523 > 512). Running this sequence through the model will result in indexing errors\n",
            "Token indices sequence length is longer than the specified maximum sequence length for this model (1046 > 512). Running this sequence through the model will result in indexing errors\n",
            "Token indices sequence length is longer than the specified maximum sequence length for this model (518 > 512). Running this sequence through the model will result in indexing errors\n",
            "Token indices sequence length is longer than the specified maximum sequence length for this model (521 > 512). Running this sequence through the model will result in indexing errors\n",
            "Token indices sequence length is longer than the specified maximum sequence length for this model (590 > 512). Running this sequence through the model will result in indexing errors\n",
            "Token indices sequence length is longer than the specified maximum sequence length for this model (567 > 512). Running this sequence through the model will result in indexing errors\n",
            "Token indices sequence length is longer than the specified maximum sequence length for this model (674 > 512). Running this sequence through the model will result in indexing errors\n",
            "Token indices sequence length is longer than the specified maximum sequence length for this model (2443 > 512). Running this sequence through the model will result in indexing errors\n",
            "Token indices sequence length is longer than the specified maximum sequence length for this model (567 > 512). Running this sequence through the model will result in indexing errors\n",
            "Token indices sequence length is longer than the specified maximum sequence length for this model (599 > 512). Running this sequence through the model will result in indexing errors\n",
            "Token indices sequence length is longer than the specified maximum sequence length for this model (690 > 512). Running this sequence through the model will result in indexing errors\n",
            "Token indices sequence length is longer than the specified maximum sequence length for this model (1657 > 512). Running this sequence through the model will result in indexing errors\n",
            "Token indices sequence length is longer than the specified maximum sequence length for this model (520 > 512). Running this sequence through the model will result in indexing errors\n",
            "Token indices sequence length is longer than the specified maximum sequence length for this model (539 > 512). Running this sequence through the model will result in indexing errors\n",
            "Token indices sequence length is longer than the specified maximum sequence length for this model (519 > 512). Running this sequence through the model will result in indexing errors\n",
            "Token indices sequence length is longer than the specified maximum sequence length for this model (544 > 512). Running this sequence through the model will result in indexing errors\n",
            "Token indices sequence length is longer than the specified maximum sequence length for this model (689 > 512). Running this sequence through the model will result in indexing errors\n",
            "Token indices sequence length is longer than the specified maximum sequence length for this model (575 > 512). Running this sequence through the model will result in indexing errors\n",
            "Token indices sequence length is longer than the specified maximum sequence length for this model (554 > 512). Running this sequence through the model will result in indexing errors\n",
            "Token indices sequence length is longer than the specified maximum sequence length for this model (661 > 512). Running this sequence through the model will result in indexing errors\n",
            "Token indices sequence length is longer than the specified maximum sequence length for this model (591 > 512). Running this sequence through the model will result in indexing errors\n",
            "Token indices sequence length is longer than the specified maximum sequence length for this model (534 > 512). Running this sequence through the model will result in indexing errors\n",
            "Token indices sequence length is longer than the specified maximum sequence length for this model (664 > 512). Running this sequence through the model will result in indexing errors\n",
            "Token indices sequence length is longer than the specified maximum sequence length for this model (1779 > 512). Running this sequence through the model will result in indexing errors\n",
            "Token indices sequence length is longer than the specified maximum sequence length for this model (569 > 512). Running this sequence through the model will result in indexing errors\n",
            "Token indices sequence length is longer than the specified maximum sequence length for this model (518 > 512). Running this sequence through the model will result in indexing errors\n",
            "Token indices sequence length is longer than the specified maximum sequence length for this model (569 > 512). Running this sequence through the model will result in indexing errors\n",
            "Token indices sequence length is longer than the specified maximum sequence length for this model (567 > 512). Running this sequence through the model will result in indexing errors\n",
            "Token indices sequence length is longer than the specified maximum sequence length for this model (544 > 512). Running this sequence through the model will result in indexing errors\n",
            "Token indices sequence length is longer than the specified maximum sequence length for this model (1291 > 512). Running this sequence through the model will result in indexing errors\n",
            "Token indices sequence length is longer than the specified maximum sequence length for this model (1485 > 512). Running this sequence through the model will result in indexing errors\n",
            "Token indices sequence length is longer than the specified maximum sequence length for this model (591 > 512). Running this sequence through the model will result in indexing errors\n",
            "Token indices sequence length is longer than the specified maximum sequence length for this model (593 > 512). Running this sequence through the model will result in indexing errors\n",
            "Token indices sequence length is longer than the specified maximum sequence length for this model (773 > 512). Running this sequence through the model will result in indexing errors\n",
            "Token indices sequence length is longer than the specified maximum sequence length for this model (733 > 512). Running this sequence through the model will result in indexing errors\n",
            "Token indices sequence length is longer than the specified maximum sequence length for this model (546 > 512). Running this sequence through the model will result in indexing errors\n",
            "Token indices sequence length is longer than the specified maximum sequence length for this model (585 > 512). Running this sequence through the model will result in indexing errors\n",
            "Token indices sequence length is longer than the specified maximum sequence length for this model (775 > 512). Running this sequence through the model will result in indexing errors\n",
            "Token indices sequence length is longer than the specified maximum sequence length for this model (555 > 512). Running this sequence through the model will result in indexing errors\n",
            "Token indices sequence length is longer than the specified maximum sequence length for this model (555 > 512). Running this sequence through the model will result in indexing errors\n",
            "Token indices sequence length is longer than the specified maximum sequence length for this model (631 > 512). Running this sequence through the model will result in indexing errors\n",
            "Token indices sequence length is longer than the specified maximum sequence length for this model (523 > 512). Running this sequence through the model will result in indexing errors\n",
            "Token indices sequence length is longer than the specified maximum sequence length for this model (547 > 512). Running this sequence through the model will result in indexing errors\n",
            "Token indices sequence length is longer than the specified maximum sequence length for this model (589 > 512). Running this sequence through the model will result in indexing errors\n",
            "Token indices sequence length is longer than the specified maximum sequence length for this model (564 > 512). Running this sequence through the model will result in indexing errors\n",
            "Token indices sequence length is longer than the specified maximum sequence length for this model (525 > 512). Running this sequence through the model will result in indexing errors\n",
            "Token indices sequence length is longer than the specified maximum sequence length for this model (588 > 512). Running this sequence through the model will result in indexing errors\n",
            "Token indices sequence length is longer than the specified maximum sequence length for this model (541 > 512). Running this sequence through the model will result in indexing errors\n",
            "Token indices sequence length is longer than the specified maximum sequence length for this model (969 > 512). Running this sequence through the model will result in indexing errors\n",
            "Token indices sequence length is longer than the specified maximum sequence length for this model (1616 > 512). Running this sequence through the model will result in indexing errors\n",
            "Token indices sequence length is longer than the specified maximum sequence length for this model (1957 > 512). Running this sequence through the model will result in indexing errors\n",
            "Token indices sequence length is longer than the specified maximum sequence length for this model (796 > 512). Running this sequence through the model will result in indexing errors\n"
          ],
          "name": "stderr"
        }
      ]
    },
    {
      "cell_type": "code",
      "metadata": {
        "id": "MKVCz6sO-pCR",
        "colab_type": "code",
        "outputId": "e2f63913-adb8-4ace-99a0-b4529d473fe1",
        "colab": {
          "base_uri": "https://localhost:8080/",
          "height": 275
        }
      },
      "source": [
        "validation_sequences = validation_set['text'].apply((lambda x: tokenizer.encode(x, add_special_tokens=True)))"
      ],
      "execution_count": 0,
      "outputs": [
        {
          "output_type": "stream",
          "text": [
            "Token indices sequence length is longer than the specified maximum sequence length for this model (570 > 512). Running this sequence through the model will result in indexing errors\n",
            "Token indices sequence length is longer than the specified maximum sequence length for this model (529 > 512). Running this sequence through the model will result in indexing errors\n",
            "Token indices sequence length is longer than the specified maximum sequence length for this model (616 > 512). Running this sequence through the model will result in indexing errors\n",
            "Token indices sequence length is longer than the specified maximum sequence length for this model (531 > 512). Running this sequence through the model will result in indexing errors\n",
            "Token indices sequence length is longer than the specified maximum sequence length for this model (986 > 512). Running this sequence through the model will result in indexing errors\n",
            "Token indices sequence length is longer than the specified maximum sequence length for this model (546 > 512). Running this sequence through the model will result in indexing errors\n",
            "Token indices sequence length is longer than the specified maximum sequence length for this model (547 > 512). Running this sequence through the model will result in indexing errors\n",
            "Token indices sequence length is longer than the specified maximum sequence length for this model (525 > 512). Running this sequence through the model will result in indexing errors\n",
            "Token indices sequence length is longer than the specified maximum sequence length for this model (611 > 512). Running this sequence through the model will result in indexing errors\n",
            "Token indices sequence length is longer than the specified maximum sequence length for this model (554 > 512). Running this sequence through the model will result in indexing errors\n",
            "Token indices sequence length is longer than the specified maximum sequence length for this model (512 > 512). Running this sequence through the model will result in indexing errors\n",
            "Token indices sequence length is longer than the specified maximum sequence length for this model (518 > 512). Running this sequence through the model will result in indexing errors\n",
            "Token indices sequence length is longer than the specified maximum sequence length for this model (544 > 512). Running this sequence through the model will result in indexing errors\n",
            "Token indices sequence length is longer than the specified maximum sequence length for this model (584 > 512). Running this sequence through the model will result in indexing errors\n"
          ],
          "name": "stderr"
        }
      ]
    },
    {
      "cell_type": "code",
      "metadata": {
        "id": "uiDbJML3_IQm",
        "colab_type": "code",
        "colab": {}
      },
      "source": [
        "train_padded = pad_sequences(train_sequences, maxlen=max_length, padding=padding_type, truncating=trunc_type)"
      ],
      "execution_count": 0,
      "outputs": []
    },
    {
      "cell_type": "code",
      "metadata": {
        "id": "u43BlzLF_yBa",
        "colab_type": "code",
        "colab": {}
      },
      "source": [
        "validation_padded = pad_sequences(validation_sequences, maxlen=max_length, padding=padding_type, truncating=trunc_type)"
      ],
      "execution_count": 0,
      "outputs": []
    },
    {
      "cell_type": "markdown",
      "metadata": {
        "id": "2SY7No_2Jz-h",
        "colab_type": "text"
      },
      "source": [
        "Ubah `train_padded` dan `validation_padded` ke dalam bentuk tensor. Lalu jalankan model (forward pass). DistilBERT memiliki hidden unit sebanyak 768."
      ]
    },
    {
      "cell_type": "code",
      "metadata": {
        "id": "gqewXSNB__Cb",
        "colab_type": "code",
        "colab": {}
      },
      "source": [
        "train_ids = torch.tensor(np.array(train_padded)).to(torch.int64)\n",
        "with torch.no_grad():\n",
        "    train_last_hidden_states = model(train_ids)"
      ],
      "execution_count": 0,
      "outputs": []
    },
    {
      "cell_type": "code",
      "metadata": {
        "id": "pZCYzPZcF5Ih",
        "colab_type": "code",
        "colab": {}
      },
      "source": [
        "validation_ids = torch.tensor(np.array(validation_padded)).to(torch.int64)\n",
        "with torch.no_grad():\n",
        "    validation_last_hidden_states = model(validation_ids)"
      ],
      "execution_count": 0,
      "outputs": []
    },
    {
      "cell_type": "markdown",
      "metadata": {
        "id": "whSJAgCSYJ48",
        "colab_type": "text"
      },
      "source": [
        "Shape dari `last_hidden_states` yaitu `[jumlah data, panjang sekuens, jumlah hidden units]`."
      ]
    },
    {
      "cell_type": "code",
      "metadata": {
        "id": "nGpIyhLUAJCS",
        "colab_type": "code",
        "outputId": "eee16c56-5864-471d-897b-84d2fad972ea",
        "colab": {
          "base_uri": "https://localhost:8080/",
          "height": 34
        }
      },
      "source": [
        "train_last_hidden_states[0].shape"
      ],
      "execution_count": 0,
      "outputs": [
        {
          "output_type": "execute_result",
          "data": {
            "text/plain": [
              "torch.Size([1780, 200, 768])"
            ]
          },
          "metadata": {
            "tags": []
          },
          "execution_count": 81
        }
      ]
    },
    {
      "cell_type": "markdown",
      "metadata": {
        "id": "bmxhgm2kYZOB",
        "colab_type": "text"
      },
      "source": [
        "Untuk teks classification, kita bisa menggunakan hanya output posisi pertama dari 200 output yang dikeluarkan model. Karena terdapat self-attention di dalam model tersebut, maka setiap posisi output akan memiliki aliran informasi dari semua posisi input, tidak hanya dari posisi input yang bersesuaian."
      ]
    },
    {
      "cell_type": "code",
      "metadata": {
        "id": "wqukCU22C4gz",
        "colab_type": "code",
        "colab": {}
      },
      "source": [
        "train_features = train_last_hidden_states[0][:,0,:].numpy()"
      ],
      "execution_count": 0,
      "outputs": []
    },
    {
      "cell_type": "code",
      "metadata": {
        "id": "eFXaueUNGotp",
        "colab_type": "code",
        "colab": {}
      },
      "source": [
        "validation_features = validation_last_hidden_states[0][:,0,:].numpy()"
      ],
      "execution_count": 0,
      "outputs": []
    },
    {
      "cell_type": "code",
      "metadata": {
        "id": "80uMx-PiD-bX",
        "colab_type": "code",
        "outputId": "eeb06331-ca36-4b54-9378-ef035c0224f6",
        "colab": {
          "base_uri": "https://localhost:8080/",
          "height": 1000
        }
      },
      "source": [
        "train_features[0]"
      ],
      "execution_count": 0,
      "outputs": [
        {
          "output_type": "execute_result",
          "data": {
            "text/plain": [
              "array([ 2.48080388e-01,  2.04793781e-01,  3.78549397e-01,  4.46929008e-01,\n",
              "        1.50833189e-01, -1.44618765e-01,  1.13854431e-01,  4.42507595e-01,\n",
              "       -3.30757827e-01, -1.41197607e-01,  2.53597379e-01, -2.92316824e-01,\n",
              "       -3.27488147e-02,  4.58119363e-01, -2.69518465e-01,  2.41658166e-01,\n",
              "        5.91956964e-03,  5.04540801e-01, -2.48884261e-02,  4.08302814e-01,\n",
              "        5.01435041e-01, -8.51372182e-02,  3.07783157e-01, -6.98667318e-02,\n",
              "        2.80450314e-01, -2.27801248e-01, -1.52133852e-01, -1.47802634e-02,\n",
              "        1.68139562e-01,  1.15813367e-01, -4.22211923e-02, -1.93968475e-01,\n",
              "       -2.13252693e-01, -3.33143920e-01,  2.23356366e-01, -4.63325679e-02,\n",
              "        3.97536904e-01,  6.09043278e-02, -4.38380599e-01,  1.80372804e-01,\n",
              "       -5.69559574e-01, -7.48178735e-02,  2.52979159e-01,  2.83001531e-02,\n",
              "        3.40195507e-01,  3.44524533e-02, -3.27709556e-01, -3.58494878e-01,\n",
              "        1.54593289e-01, -5.66175133e-02, -2.95305867e-02, -1.46187335e-01,\n",
              "       -2.62136385e-02, -2.10973859e-01,  1.35313481e-01,  5.96906543e-01,\n",
              "       -8.18848684e-02, -3.31891507e-01, -5.86540759e-01,  5.39810695e-02,\n",
              "        5.00756577e-02, -8.10104832e-02, -2.93791950e-01, -4.22603250e-01,\n",
              "        4.10470933e-01, -4.14382786e-01, -4.16502869e-03,  7.04682052e-01,\n",
              "       -2.79516578e-01,  1.63616478e-01, -1.76206976e-01, -6.46526456e-01,\n",
              "        3.74561936e-01,  2.33092532e-01, -1.88323662e-01,  7.37028047e-02,\n",
              "       -2.81820416e-01,  5.32240272e-01,  2.48614699e-01, -7.92431235e-01,\n",
              "       -3.83448452e-01,  3.12807232e-01, -4.65827554e-01,  3.52994114e-01,\n",
              "       -2.86173145e-03,  1.27977327e-01, -2.25886583e-01,  2.10074097e-01,\n",
              "       -3.68221223e-01,  5.74147165e-01,  4.13616329e-01, -4.92126673e-01,\n",
              "        1.53538734e-01, -1.12350002e-01,  9.69889853e-03,  2.07414389e-01,\n",
              "       -3.48656148e-01,  2.15044931e-01, -3.15479279e-01, -2.29331683e-02,\n",
              "        6.91385120e-02,  3.04287106e-01,  5.84023654e-01, -3.05847585e-01,\n",
              "        5.83400846e-01, -2.63590008e-01,  2.10961491e-01, -5.05398251e-02,\n",
              "        4.72471505e-01,  1.45808645e-02,  3.49097311e-01, -4.70321476e-01,\n",
              "       -5.45500576e-01, -1.65515423e-01, -3.27505022e-01, -1.25992671e-01,\n",
              "        1.89263988e-02, -1.02394864e-01,  1.25871226e-01,  7.23038316e-02,\n",
              "        2.07463622e-01, -6.94286704e-01, -2.97149867e-01,  6.42267406e-01,\n",
              "       -1.51561692e-01,  2.47657999e-01, -4.95922953e-01, -1.99516714e-01,\n",
              "        4.08375442e-01, -2.51779030e-03,  8.09728429e-02, -4.42119911e-02,\n",
              "       -2.98328400e-01, -9.99256447e-02,  3.97662818e-02,  9.88633156e-01,\n",
              "        1.08763175e-02,  7.63328895e-02, -4.43168104e-01,  1.26434356e-01,\n",
              "        3.46406341e-01, -2.09287941e-01,  3.16699505e-01,  6.08033910e-02,\n",
              "        2.18430519e-01,  1.54563680e-01, -3.94402117e-01,  2.80230176e-02,\n",
              "       -1.77501425e-01, -3.12505253e-02, -1.69119716e-01, -2.15760395e-01,\n",
              "        2.09756583e-01,  6.87280810e-03,  1.94342047e-01, -1.18946195e-01,\n",
              "       -2.66900390e-01,  1.06951207e-01,  4.71565239e-02, -2.02209368e-01,\n",
              "        5.63474856e-02,  7.74602145e-02,  1.76697254e-01,  3.98131728e-01,\n",
              "       -7.96312913e-02,  1.44156575e-01,  1.61238551e-01,  4.49889004e-01,\n",
              "       -2.00169489e-01, -3.14223886e-01,  5.24866506e-02,  5.67268550e-01,\n",
              "        9.85407829e-01, -1.84376508e-01, -6.23318106e-02,  2.75441799e-02,\n",
              "        1.68232620e-01,  5.32176137e-01, -3.16250250e-02,  2.34431639e-01,\n",
              "       -7.62175143e-01,  5.81037514e-02, -1.28087968e-01, -8.33010674e-02,\n",
              "        3.56847674e-01,  1.50075659e-01,  2.73202926e-01,  1.58038870e-01,\n",
              "       -8.37333675e-04, -2.39230096e-01, -5.64287901e-01, -2.57414877e-01,\n",
              "       -1.29979685e-01, -7.41539672e-02,  3.51613164e-01, -1.32667884e-01,\n",
              "        1.72972634e-01, -3.29832397e-02, -3.39586198e-01, -5.96681833e-01,\n",
              "       -1.46557674e-01, -3.25515270e-02,  4.44163382e-01,  2.77318954e-01,\n",
              "       -8.76155868e-02, -3.70931059e-01, -2.24996377e-02, -3.74952912e-01,\n",
              "        6.25730492e-03,  9.48158279e-02, -2.37896040e-01,  7.19938129e-02,\n",
              "        1.96471095e-01,  6.07040524e-01, -1.41111955e-01, -4.18700248e-01,\n",
              "       -1.85350642e-01, -3.00796419e-01, -6.37140963e-03,  3.29615653e-01,\n",
              "       -4.00476307e-02,  1.76181495e-01, -3.07657540e-01,  6.85464859e-01,\n",
              "       -2.68081218e-01,  1.01096106e+00,  2.28902102e-01, -5.40076077e-01,\n",
              "       -1.32285655e-01,  8.19112360e-02,  4.02841508e-01, -3.03352147e-01,\n",
              "        5.88437259e-01, -3.58785838e-01, -1.12985685e-01,  1.08604573e-01,\n",
              "       -4.78913605e-01, -4.19210047e-01, -5.97240292e-02, -4.03132886e-01,\n",
              "       -9.45340618e-02, -8.60676691e-02,  2.92371005e-01, -3.48213583e-01,\n",
              "        3.62529039e-01, -1.89704522e-01,  3.45106162e-02, -1.17350362e-01,\n",
              "        7.95731321e-02, -6.80633038e-02, -4.63033468e-02,  1.25848189e-01,\n",
              "       -8.85236487e-02, -3.60002488e-01,  2.31166240e-02, -2.32736707e-01,\n",
              "        2.91865706e-01, -2.92943507e-01, -1.61024779e-01, -5.85001297e-02,\n",
              "       -1.32936344e-01, -4.80608977e-02,  3.61167014e-01, -4.32872996e-02,\n",
              "       -1.38034761e-01, -4.73569036e-01,  3.58208984e-01,  4.16356511e-02,\n",
              "       -2.79011130e-01, -2.38615304e-01,  4.74442124e-01, -1.70220397e-02,\n",
              "       -2.18710631e-01,  1.01853764e+00,  7.15261698e-02, -3.31857763e-02,\n",
              "        6.06368780e-01, -2.72689730e-01,  4.38287497e-01, -1.21818937e-01,\n",
              "        4.39686000e-01,  1.91902190e-01,  1.09005302e-01, -1.14744017e-02,\n",
              "       -2.37639204e-01,  2.61410270e-02, -1.52100906e-01,  2.49701172e-01,\n",
              "       -2.52864927e-01, -9.33635905e-02,  1.70816749e-01,  3.68803591e-01,\n",
              "       -2.10396975e-01, -3.65735292e-01,  4.58192527e-01,  1.37526676e-01,\n",
              "        1.49928048e-01,  2.19979018e-01,  6.48736581e-02, -4.26794320e-01,\n",
              "       -4.20615435e-01,  2.38445148e-01,  2.21638158e-01,  1.01198725e-01,\n",
              "        2.06318676e-01,  1.04988351e-01, -5.94543898e-03, -3.68405938e-01,\n",
              "       -4.70181465e+00, -1.30242720e-01,  1.70520097e-01, -4.18470174e-01,\n",
              "        1.04246832e-01, -8.57879370e-02,  2.09024265e-01,  1.96940437e-01,\n",
              "       -4.71166104e-01,  1.42809972e-01,  1.34998947e-01, -2.16251254e-01,\n",
              "        2.54753292e-01,  3.20029587e-01,  2.36188591e-01,  8.14129859e-02,\n",
              "        1.13720205e-02,  6.50606155e-02, -2.78231859e-01,  4.41557795e-01,\n",
              "       -3.12327296e-01, -4.24053445e-02,  8.38688463e-02, -3.14744145e-01,\n",
              "        2.39994869e-01,  2.53634602e-01,  7.66358897e-02, -1.46754161e-01,\n",
              "        1.19528130e-01, -3.28055620e-01,  2.29429170e-01, -1.80862293e-01,\n",
              "       -4.64500785e-01,  2.55862534e-01, -1.33584589e-01,  1.35496050e-01,\n",
              "        2.28050336e-01, -4.35487807e-01, -1.24130666e-01, -2.26447925e-01,\n",
              "       -4.80048545e-02, -7.35456288e-01,  5.54116890e-02,  7.23698437e-02,\n",
              "        9.27882791e-01, -2.74310857e-01,  2.52481792e-02, -5.57907531e-03,\n",
              "       -1.43623158e-01,  2.34138995e-01,  2.43187681e-01,  2.27694839e-01,\n",
              "        1.14968255e-01, -5.75279176e-01, -1.61898702e-01,  4.68343586e-01,\n",
              "        6.92855775e-01,  5.42990983e-01, -2.67475098e-01, -5.27370691e-01,\n",
              "        2.72161633e-01,  4.22101542e-02, -5.59940755e-01,  8.39617029e-02,\n",
              "       -1.25376031e-01, -4.46758002e-01,  1.48451105e-01,  5.79122901e-01,\n",
              "       -4.13687974e-01,  3.64095181e-01, -5.15652597e-01,  1.37304217e-01,\n",
              "       -4.98871148e-01, -3.52045834e-01, -1.59161344e-01, -3.32251757e-01,\n",
              "        4.35784489e-01, -2.05887944e-01,  4.25521880e-02,  1.81189165e-01,\n",
              "       -2.96117127e-01, -3.51955220e-02, -1.67436033e-01,  3.50785822e-01,\n",
              "       -3.41974169e-01, -1.30864292e-01, -2.10289642e-01, -2.27255791e-01,\n",
              "       -5.32370865e-01, -5.25632977e-01,  1.14275500e-01,  1.52153626e-01,\n",
              "        1.43348873e-01, -4.02496988e-03,  4.52728599e-01, -7.85530359e-02,\n",
              "        3.72990757e-01,  8.60016644e-02,  2.10475266e-01, -5.89244902e-01,\n",
              "       -1.90261334e-01,  1.22766763e-01,  1.97447866e-01, -3.13065767e-01,\n",
              "       -2.58172750e-02, -2.63784558e-01, -1.32092237e-01, -1.41922366e-02,\n",
              "       -7.19005316e-02, -4.71474677e-02,  4.04824279e-02,  1.32642537e-02,\n",
              "        4.25243676e-02,  1.46845728e-01, -4.37915474e-02, -6.11664176e-01,\n",
              "       -6.38343990e-02,  9.10817802e-01,  2.32068315e-01, -4.00582671e-01,\n",
              "       -2.17150286e-01,  6.04318142e-01,  2.46367082e-02, -1.04530804e-01,\n",
              "       -2.44479507e-01,  7.44445771e-02,  1.90112069e-01, -1.59757778e-01,\n",
              "        2.03104854e-01, -9.87334847e-02, -4.87941504e-01,  7.91888684e-02,\n",
              "       -8.98669511e-02,  4.94529337e-01,  2.45920300e-01, -9.48494002e-02,\n",
              "        3.18053842e-01, -5.77208102e-01, -1.70951083e-01,  4.93459225e-01,\n",
              "       -2.46129125e-01,  9.78770759e-03, -3.37354988e-01, -2.19130501e-01,\n",
              "       -6.16797432e-02,  3.32475364e-01, -1.51302084e-01, -1.16115065e-04,\n",
              "       -1.33481741e-01,  1.29743829e-01, -8.45330119e-01, -1.85888261e-01,\n",
              "       -3.26429188e-01, -4.48908031e-01,  6.91550300e-02,  2.23307848e-01,\n",
              "       -7.83042967e-01, -7.43793249e-02,  8.84967223e-02, -1.26276135e+00,\n",
              "        2.30578214e-01,  2.81013638e-01,  6.25035912e-02,  4.98844147e-01,\n",
              "       -2.47283220e-01,  4.35642034e-01, -4.70014036e-01,  2.83148214e-02,\n",
              "       -1.45115508e-02,  6.88748956e-02, -1.79427758e-01, -4.14180420e-02,\n",
              "        3.41409206e-01, -4.67812479e-01, -1.83535248e-01,  8.69091690e-01,\n",
              "        3.23854089e-01, -5.49915254e-01, -1.77323520e-01,  3.19400311e-01,\n",
              "        3.22726250e-01, -7.63192922e-02, -5.32106161e-01, -1.89699903e-02,\n",
              "        8.47697444e-03,  6.27255023e-01,  3.19944412e-01, -3.82612981e-02,\n",
              "        3.53098035e-01,  3.76022816e-01, -3.61902624e-01,  4.39867914e-01,\n",
              "       -1.99689224e-01,  2.19094530e-02,  1.67640485e-02, -2.48135492e-01,\n",
              "        8.99874568e-01, -5.51630668e-02,  1.20111115e-01, -3.70486051e-01,\n",
              "        2.65975036e-02, -5.90146855e-02,  2.49680430e-01,  3.00515801e-01,\n",
              "        1.05357558e-01, -1.13047240e-02,  5.74859641e-02, -4.32862677e-02,\n",
              "       -9.13820416e-02,  2.32651219e-01, -9.33586583e-02, -2.73881912e-01,\n",
              "       -1.07181698e-01,  7.27340057e-02,  3.67067382e-02, -4.35920656e-01,\n",
              "       -1.56391829e-01,  1.61824659e-01, -8.67703855e-01,  1.11437604e-01,\n",
              "       -3.38431209e-01, -1.69351742e-01,  9.55520272e-02,  4.46259324e-03,\n",
              "       -1.91674501e-01,  1.63079768e-01,  5.11433721e-01,  9.13281068e-02,\n",
              "       -1.42556354e-01, -3.77797455e-01,  2.08675653e-01, -3.05892974e-01,\n",
              "       -3.21440309e-01, -2.61121392e-01, -1.93207130e-01,  5.68775117e-01,\n",
              "        7.85754621e-02, -8.28635514e-01,  4.51443434e-01,  1.20791353e-01,\n",
              "       -3.39271367e-01, -2.42948547e-01,  2.33143002e-01, -7.93527067e-01,\n",
              "        1.90281019e-01,  3.09869885e-01,  5.08403638e-03,  3.22053552e-01,\n",
              "       -1.50154009e-02,  1.15350164e-01,  1.64591342e-01,  1.29787177e-01,\n",
              "        1.28385752e-01, -3.44975233e-01, -2.31493711e-02, -6.98065877e-01,\n",
              "        1.00665828e-02,  1.74727216e-01, -6.33518338e-01,  2.26350967e-02,\n",
              "       -1.63344100e-01,  1.18942242e-02, -2.61587173e-01, -2.29049735e-02,\n",
              "        4.90666121e-01, -1.02284044e-01,  3.59002113e-01,  3.21044058e-01,\n",
              "        6.51850477e-02, -6.18888319e-01,  1.33326009e-01,  1.49331287e-01,\n",
              "       -9.45131928e-02, -7.37706423e-01,  1.43664822e-01,  3.08373630e-01,\n",
              "        9.63805094e-02, -7.92630196e-01, -2.68534124e-01,  8.42763633e-02,\n",
              "       -5.31090498e-01, -1.09310523e-01,  4.96826768e-02, -2.49513209e-01,\n",
              "        3.38909537e-01, -1.54350936e-01, -1.82379872e-01,  2.40991324e-01,\n",
              "       -1.63377881e-01,  1.21941969e-01,  3.51724982e-01, -9.29393470e-02,\n",
              "       -2.69922227e-01, -1.24817863e-01,  5.98029494e-02,  5.37534833e-01,\n",
              "        1.73348948e-01, -2.10455298e-01,  4.16774452e-01,  4.23568562e-02,\n",
              "       -2.35267863e-01, -1.12690374e-01,  2.18685418e-01, -4.74016741e-02,\n",
              "        6.82945922e-02, -7.86210820e-02, -1.91202015e-01, -7.85853207e-01,\n",
              "        1.94711789e-01, -3.05960961e-02, -3.94821703e-01,  6.17525876e-02,\n",
              "        6.17111802e-01,  3.59066844e-01, -3.58770192e-01, -1.58807531e-01,\n",
              "       -1.75686106e-02, -9.09864604e-02, -2.23532632e-01,  2.42521062e-01,\n",
              "        2.41379254e-02,  3.79924357e-01,  6.88663423e-01, -3.69577289e-01,\n",
              "        5.65631330e-01,  1.57197610e-01,  5.65843955e-02,  6.87099025e-02,\n",
              "        1.47196323e-01,  3.95989925e-01, -3.21531087e-01,  6.70981407e-02,\n",
              "        5.19935563e-02,  4.08040524e-01,  8.16816688e-02, -5.01461998e-02,\n",
              "       -9.77579206e-02,  1.23132437e-01,  2.83610791e-01,  4.84813936e-02,\n",
              "        2.21254900e-01,  1.67581603e-01,  3.47494870e-01, -1.92484155e-01,\n",
              "        9.11414698e-02,  3.02086473e-01, -1.27994597e-01,  3.96634340e-01,\n",
              "        5.62074423e-01,  1.22401163e-01,  2.49672562e-01,  2.86112815e-01,\n",
              "       -6.05999865e-02, -3.22831035e-01,  2.49973312e-01,  1.99047431e-01,\n",
              "        2.37286761e-01,  7.46672571e-01,  3.40159178e-01,  4.38064247e-01,\n",
              "        2.86100924e-01,  4.32673484e-01,  2.52243821e-02, -2.48025522e-01,\n",
              "       -2.92365044e-01,  2.92203695e-01,  1.36894897e-01, -2.91790962e-01,\n",
              "       -4.42078888e-01, -1.99601248e-01, -3.89993608e-01,  1.67381778e-01,\n",
              "       -2.85421520e-01, -2.22433388e-01, -2.30534688e-01,  3.78720522e-01,\n",
              "        3.45849469e-02, -7.04435468e-01, -3.02496254e-01,  2.70251986e-02,\n",
              "        6.24272116e-02,  1.18307844e-01, -3.38753849e-01, -2.01641753e-01,\n",
              "       -1.94746908e-02,  3.23840320e-01, -1.35119915e-01, -4.60376814e-02,\n",
              "        5.11599891e-03,  8.41062665e-02, -4.94782120e-01, -1.31470725e-01,\n",
              "        3.71202379e-01, -1.86361291e-03, -7.17664510e-02, -3.95429790e-01,\n",
              "       -4.30533916e-01, -4.23443735e-01,  4.68491971e-01, -2.48609200e-01,\n",
              "        1.01181768e-01, -4.93401252e-02,  3.13547216e-02,  2.35259887e-02,\n",
              "        4.82226670e-01, -2.47841813e-02, -1.33172318e-01,  4.91169661e-01,\n",
              "       -2.99065351e-01,  2.40927547e-01, -1.45666957e-01,  4.05966938e-01,\n",
              "       -3.93763125e-01, -6.95393234e-02, -6.43001720e-02,  8.11950564e-02,\n",
              "        4.10067409e-01,  6.02795839e-01, -3.17888081e-01, -8.27668048e-03,\n",
              "       -6.93378225e-02,  7.48259202e-02,  5.60556471e-01, -1.89330146e-01,\n",
              "       -3.38614255e-01, -3.83972734e-01, -1.29872710e-02,  2.36997768e-01,\n",
              "       -6.55425116e-02,  7.00814500e-02, -6.67777300e-01,  2.34082088e-01,\n",
              "       -2.76012063e-01,  3.84073228e-01, -1.46587491e-02,  3.01431060e-01,\n",
              "       -4.76188004e-01,  3.75267804e-01,  4.21707600e-01,  4.12158102e-01,\n",
              "        3.94737601e-01,  2.45278612e-01, -1.80904850e-01, -9.94691849e-02,\n",
              "        3.52025270e-01, -1.42206118e-01, -2.11867094e-02, -8.63341093e-02,\n",
              "       -3.93795639e-01, -6.63980365e-01, -3.47125411e-01, -3.85860950e-01,\n",
              "        2.06355732e-02, -4.28491563e-01, -2.59645075e-01, -2.90885389e-01,\n",
              "        1.76877044e-02, -3.37976098e-01, -2.73595005e-01, -2.12320223e-01],\n",
              "      dtype=float32)"
            ]
          },
          "metadata": {
            "tags": []
          },
          "execution_count": 84
        }
      ]
    },
    {
      "cell_type": "code",
      "metadata": {
        "id": "gIIuKhDvETKr",
        "colab_type": "code",
        "colab": {}
      },
      "source": [
        "train_label = training_label_seq.squeeze()\n",
        "validation_label = validation_label_seq.squeeze()"
      ],
      "execution_count": 0,
      "outputs": []
    },
    {
      "cell_type": "markdown",
      "metadata": {
        "id": "V1wRsY-bZD71",
        "colab_type": "text"
      },
      "source": [
        "Coba gunakan logistic regression sederhana untuk melakukan klasifikasi."
      ]
    },
    {
      "cell_type": "code",
      "metadata": {
        "id": "qEmGR2zOD0CR",
        "colab_type": "code",
        "outputId": "9ec3c31d-6ed9-4dd1-99ce-e18d5e8ed430",
        "colab": {
          "base_uri": "https://localhost:8080/",
          "height": 102
        }
      },
      "source": [
        "lr_clf = LogisticRegression(max_iter=500)\n",
        "lr_clf.fit(train_features, train_label)"
      ],
      "execution_count": 0,
      "outputs": [
        {
          "output_type": "execute_result",
          "data": {
            "text/plain": [
              "LogisticRegression(C=1.0, class_weight=None, dual=False, fit_intercept=True,\n",
              "                   intercept_scaling=1, l1_ratio=None, max_iter=500,\n",
              "                   multi_class='auto', n_jobs=None, penalty='l2',\n",
              "                   random_state=None, solver='lbfgs', tol=0.0001, verbose=0,\n",
              "                   warm_start=False)"
            ]
          },
          "metadata": {
            "tags": []
          },
          "execution_count": 86
        }
      ]
    },
    {
      "cell_type": "markdown",
      "metadata": {
        "id": "lx5vgLZMZIiv",
        "colab_type": "text"
      },
      "source": [
        "Ternyata akurasi train dan validationnya cukup tinggi."
      ]
    },
    {
      "cell_type": "code",
      "metadata": {
        "id": "y2oxzLNWEvOu",
        "colab_type": "code",
        "outputId": "df868f87-4ee3-4bc8-8b33-039fa2c70de3",
        "colab": {
          "base_uri": "https://localhost:8080/",
          "height": 34
        }
      },
      "source": [
        "lr_clf.score(train_features, train_label)"
      ],
      "execution_count": 0,
      "outputs": [
        {
          "output_type": "execute_result",
          "data": {
            "text/plain": [
              "0.998876404494382"
            ]
          },
          "metadata": {
            "tags": []
          },
          "execution_count": 87
        }
      ]
    },
    {
      "cell_type": "code",
      "metadata": {
        "id": "7kPC7Lv2FgJz",
        "colab_type": "code",
        "outputId": "94812f60-6a49-4b3a-b0f1-74535b3e5c3d",
        "colab": {
          "base_uri": "https://localhost:8080/",
          "height": 34
        }
      },
      "source": [
        "lr_clf.score(validation_features, validation_label)"
      ],
      "execution_count": 0,
      "outputs": [
        {
          "output_type": "execute_result",
          "data": {
            "text/plain": [
              "0.9550561797752809"
            ]
          },
          "metadata": {
            "tags": []
          },
          "execution_count": 88
        }
      ]
    },
    {
      "cell_type": "code",
      "metadata": {
        "id": "cCNmfyZAGsll",
        "colab_type": "code",
        "colab": {}
      },
      "source": [
        ""
      ],
      "execution_count": 0,
      "outputs": []
    },
    {
      "cell_type": "markdown",
      "metadata": {
        "id": "XKagruArjKMn",
        "colab_type": "text"
      },
      "source": [
        "## PoS Tagging with LSTM"
      ]
    },
    {
      "cell_type": "markdown",
      "metadata": {
        "id": "TtvQdy0QjzdL",
        "colab_type": "text"
      },
      "source": [
        "Originally from https://nlpforhackers.io/lstm-pos-tagger-keras/"
      ]
    },
    {
      "cell_type": "code",
      "metadata": {
        "id": "_uLL4og6jKrO",
        "colab_type": "code",
        "outputId": "9071c932-8e8e-44e5-8738-e4f0680e8c22",
        "colab": {
          "base_uri": "https://localhost:8080/",
          "height": 122
        }
      },
      "source": [
        "import nltk\n",
        "import numpy as np\n",
        "\n",
        "nltk.download('treebank')\n",
        " \n",
        "tagged_sentences = nltk.corpus.treebank.tagged_sents()\n",
        " \n",
        "print(tagged_sentences[0])\n",
        "print(\"Tagged sentences: \", len(tagged_sentences))\n",
        "print(\"Tagged words:\", len(nltk.corpus.treebank.tagged_words()))"
      ],
      "execution_count": 0,
      "outputs": [
        {
          "output_type": "stream",
          "text": [
            "[nltk_data] Downloading package treebank to /root/nltk_data...\n",
            "[nltk_data]   Unzipping corpora/treebank.zip.\n",
            "[('Pierre', 'NNP'), ('Vinken', 'NNP'), (',', ','), ('61', 'CD'), ('years', 'NNS'), ('old', 'JJ'), (',', ','), ('will', 'MD'), ('join', 'VB'), ('the', 'DT'), ('board', 'NN'), ('as', 'IN'), ('a', 'DT'), ('nonexecutive', 'JJ'), ('director', 'NN'), ('Nov.', 'NNP'), ('29', 'CD'), ('.', '.')]\n",
            "Tagged sentences:  3914\n",
            "Tagged words: 100676\n"
          ],
          "name": "stdout"
        }
      ]
    },
    {
      "cell_type": "code",
      "metadata": {
        "id": "SfvbWcTJjRCC",
        "colab_type": "code",
        "outputId": "ad58278a-e65e-4b33-f531-15f6cec32c7a",
        "colab": {
          "base_uri": "https://localhost:8080/",
          "height": 136
        }
      },
      "source": [
        "sentences, sentence_tags =[], [] \n",
        "for tagged_sentence in tagged_sentences:\n",
        "    sentence, tags = zip(*tagged_sentence)\n",
        "    sentences.append(np.array(sentence))\n",
        "    sentence_tags.append(np.array(tags))\n",
        " \n",
        "# Let's see how a sequence looks\n",
        " \n",
        "print(sentences[5])\n",
        "print(sentence_tags[5])"
      ],
      "execution_count": 0,
      "outputs": [
        {
          "output_type": "stream",
          "text": [
            "['Lorillard' 'Inc.' ',' 'the' 'unit' 'of' 'New' 'York-based' 'Loews'\n",
            " 'Corp.' 'that' '*T*-2' 'makes' 'Kent' 'cigarettes' ',' 'stopped' 'using'\n",
            " 'crocidolite' 'in' 'its' 'Micronite' 'cigarette' 'filters' 'in' '1956'\n",
            " '.']\n",
            "['NNP' 'NNP' ',' 'DT' 'NN' 'IN' 'JJ' 'JJ' 'NNP' 'NNP' 'WDT' '-NONE-' 'VBZ'\n",
            " 'NNP' 'NNS' ',' 'VBD' 'VBG' 'NN' 'IN' 'PRP$' 'NN' 'NN' 'NNS' 'IN' 'CD'\n",
            " '.']\n"
          ],
          "name": "stdout"
        }
      ]
    },
    {
      "cell_type": "code",
      "metadata": {
        "id": "5x8crBYTjVCr",
        "colab_type": "code",
        "colab": {}
      },
      "source": [
        "from sklearn.model_selection import train_test_split\n",
        "\n",
        "(train_sentences, \n",
        " test_sentences, \n",
        " train_tags, \n",
        " test_tags) = train_test_split(sentences, sentence_tags, test_size=0.2)"
      ],
      "execution_count": 0,
      "outputs": []
    },
    {
      "cell_type": "code",
      "metadata": {
        "id": "FOiP1rtFjYTI",
        "colab_type": "code",
        "colab": {}
      },
      "source": [
        "words, tags = set([]), set([])\n",
        " \n",
        "for s in train_sentences:\n",
        "    for w in s:\n",
        "        words.add(w.lower())\n",
        " \n",
        "for ts in train_tags:\n",
        "    for t in ts:\n",
        "        tags.add(t)\n",
        " \n",
        "word2index = {w: i + 2 for i, w in enumerate(list(words))}\n",
        "word2index['-PAD-'] = 0  # The special value used for padding\n",
        "word2index['-OOV-'] = 1  # The special value used for OOVs\n",
        " \n",
        "tag2index = {t: i + 1 for i, t in enumerate(list(tags))}\n",
        "tag2index['-PAD-'] = 0  # The special value used to padding"
      ],
      "execution_count": 0,
      "outputs": []
    },
    {
      "cell_type": "code",
      "metadata": {
        "id": "dZ4Yb45GjbNR",
        "colab_type": "code",
        "outputId": "54275c75-d823-456c-af26-e26da8da4dba",
        "colab": {
          "base_uri": "https://localhost:8080/",
          "height": 105
        }
      },
      "source": [
        "train_sentences_X, test_sentences_X, train_tags_y, test_tags_y = [], [], [], []\n",
        " \n",
        "for s in train_sentences:\n",
        "    s_int = []\n",
        "    for w in s:\n",
        "        try:\n",
        "            s_int.append(word2index[w.lower()])\n",
        "        except KeyError:\n",
        "            s_int.append(word2index['-OOV-'])\n",
        " \n",
        "    train_sentences_X.append(s_int)\n",
        " \n",
        "for s in test_sentences:\n",
        "    s_int = []\n",
        "    for w in s:\n",
        "        try:\n",
        "            s_int.append(word2index[w.lower()])\n",
        "        except KeyError:\n",
        "            s_int.append(word2index['-OOV-'])\n",
        " \n",
        "    test_sentences_X.append(s_int)\n",
        " \n",
        "for s in train_tags:\n",
        "    train_tags_y.append([tag2index[t] for t in s])\n",
        " \n",
        "for s in test_tags:\n",
        "    test_tags_y.append([tag2index[t] for t in s])\n",
        " \n",
        "print(train_sentences_X[0])\n",
        "print(test_sentences_X[0])\n",
        "print(train_tags_y[0])\n",
        "print(test_tags_y[0])"
      ],
      "execution_count": 0,
      "outputs": [
        {
          "output_type": "stream",
          "text": [
            "[2166, 5350, 5592, 6867, 3060, 9774, 2093, 8870, 5716, 5204, 3645, 4997, 8678, 5734, 3041, 1566, 760, 2424, 9149, 6867, 3157, 4431, 4036, 227, 760, 9983, 7243, 9149, 1036]\n",
            "[8969, 3835, 5070, 7823, 7970, 9469, 9184, 9711, 3843, 4001, 429, 6867, 413, 1566, 5091, 2245, 1472, 6112, 2297, 2448, 6034, 7970, 9735, 9785, 8678, 2607, 5903, 6658, 8132, 1843, 2411, 2424, 4431, 6398, 1, 1251, 8132, 4361, 3699, 3937, 1036]\n",
            "[16, 16, 18, 26, 5, 19, 19, 7, 31, 19, 16, 16, 38, 16, 14, 31, 13, 27, 7, 26, 19, 24, 38, 31, 13, 27, 27, 7, 33]\n",
            "[26, 12, 18, 7, 26, 19, 18, 5, 7, 29, 31, 26, 19, 31, 19, 12, 18, 44, 17, 12, 31, 26, 5, 19, 38, 18, 40, 31, 26, 19, 31, 27, 24, 20, 7, 8, 26, 40, 19, 19, 33]\n"
          ],
          "name": "stdout"
        }
      ]
    },
    {
      "cell_type": "code",
      "metadata": {
        "id": "QmtPXt_njdmV",
        "colab_type": "code",
        "outputId": "9e3ff58c-0697-411f-f7f1-34f981a19f49",
        "colab": {
          "base_uri": "https://localhost:8080/",
          "height": 34
        }
      },
      "source": [
        "MAX_LENGTH = len(max(train_sentences_X, key=len))\n",
        "print(MAX_LENGTH)  # 271"
      ],
      "execution_count": 0,
      "outputs": [
        {
          "output_type": "stream",
          "text": [
            "271\n"
          ],
          "name": "stdout"
        }
      ]
    },
    {
      "cell_type": "code",
      "metadata": {
        "id": "jWuOJ62DjgQt",
        "colab_type": "code",
        "outputId": "db82237b-1989-4257-98da-b4caeb52893b",
        "colab": {
          "base_uri": "https://localhost:8080/",
          "height": 34
        }
      },
      "source": [
        "from keras.preprocessing.sequence import pad_sequences\n",
        " \n",
        "train_sentences_X = pad_sequences(train_sentences_X, maxlen=MAX_LENGTH, padding='post')\n",
        "test_sentences_X = pad_sequences(test_sentences_X, maxlen=MAX_LENGTH, padding='post')\n",
        "train_tags_y = pad_sequences(train_tags_y, maxlen=MAX_LENGTH, padding='post')\n",
        "test_tags_y = pad_sequences(test_tags_y, maxlen=MAX_LENGTH, padding='post')"
      ],
      "execution_count": 0,
      "outputs": [
        {
          "output_type": "stream",
          "text": [
            "Using TensorFlow backend.\n"
          ],
          "name": "stderr"
        }
      ]
    },
    {
      "cell_type": "code",
      "metadata": {
        "id": "VLr1HFUJjkNu",
        "colab_type": "code",
        "outputId": "771978da-b043-4a83-ceb3-afe455e16ed8",
        "colab": {
          "base_uri": "https://localhost:8080/",
          "height": 289
        }
      },
      "source": [
        "from keras.models import Sequential\n",
        "from keras.layers import Dense, LSTM, InputLayer, Bidirectional, TimeDistributed, Embedding, Activation\n",
        "from keras.optimizers import Adam\n",
        "\n",
        "import tensorflow as tf\n",
        "import numpy as np\n",
        "from tensorflow.keras.preprocessing.text import Tokenizer\n",
        "from tensorflow.keras.preprocessing.sequence import pad_sequences\n",
        "\n",
        "model = tf.keras.Sequential([\n",
        "    tf.keras.layers.Embedding(len(word2index), 128),\n",
        "    tf.keras.layers.Bidirectional(tf.keras.layers.LSTM(256, return_sequences=True)),\n",
        "    tf.keras.layers.TimeDistributed(tf.keras.layers.Dense(len(tag2index))),\n",
        "    tf.keras.layers.Activation('softmax')\n",
        "])\n",
        "model.summary() \n",
        " \n",
        "\n",
        "model.compile(loss='categorical_crossentropy', optimizer='adam', metrics=['accuracy'])\n"
      ],
      "execution_count": 0,
      "outputs": [
        {
          "output_type": "stream",
          "text": [
            "Model: \"sequential_4\"\n",
            "_________________________________________________________________\n",
            "Layer (type)                 Output Shape              Param #   \n",
            "=================================================================\n",
            "embedding_4 (Embedding)      (None, None, 128)         1288064   \n",
            "_________________________________________________________________\n",
            "bidirectional_1 (Bidirection (None, None, 512)         788480    \n",
            "_________________________________________________________________\n",
            "time_distributed (TimeDistri (None, None, 47)          24111     \n",
            "_________________________________________________________________\n",
            "activation (Activation)      (None, None, 47)          0         \n",
            "=================================================================\n",
            "Total params: 2,100,655\n",
            "Trainable params: 2,100,655\n",
            "Non-trainable params: 0\n",
            "_________________________________________________________________\n"
          ],
          "name": "stdout"
        }
      ]
    },
    {
      "cell_type": "code",
      "metadata": {
        "id": "vViobsXSjnEV",
        "colab_type": "code",
        "colab": {}
      },
      "source": [
        "def to_categorical(sequences, categories):\n",
        "    cat_sequences = []\n",
        "    for s in sequences:\n",
        "        cats = []\n",
        "        for item in s:\n",
        "            cats.append(np.zeros(categories))\n",
        "            cats[-1][item] = 1.0\n",
        "        cat_sequences.append(cats)\n",
        "    return np.array(cat_sequences)"
      ],
      "execution_count": 0,
      "outputs": []
    },
    {
      "cell_type": "code",
      "metadata": {
        "id": "8iZ8GyXajppq",
        "colab_type": "code",
        "outputId": "abac1e7a-1c57-4025-ba11-80d8d96e8a98",
        "colab": {
          "base_uri": "https://localhost:8080/",
          "height": 411
        }
      },
      "source": [
        "model.fit(train_sentences_X, to_categorical(train_tags_y, len(tag2index)), batch_size=128, epochs=10, validation_split=0.2)"
      ],
      "execution_count": 0,
      "outputs": [
        {
          "output_type": "stream",
          "text": [
            "Train on 2504 samples, validate on 627 samples\n",
            "Epoch 1/10\n",
            "2504/2504 [==============================] - 18s 7ms/sample - loss: 1.3104 - acc: 0.8604 - val_loss: 0.4011 - val_acc: 0.9039\n",
            "Epoch 2/10\n",
            "2504/2504 [==============================] - 16s 6ms/sample - loss: 0.3371 - acc: 0.9068 - val_loss: 0.3244 - val_acc: 0.9044\n",
            "Epoch 3/10\n",
            "2504/2504 [==============================] - 16s 7ms/sample - loss: 0.3091 - acc: 0.9147 - val_loss: 0.3114 - val_acc: 0.9151\n",
            "Epoch 4/10\n",
            "2504/2504 [==============================] - 16s 7ms/sample - loss: 0.2977 - acc: 0.9181 - val_loss: 0.3024 - val_acc: 0.9165\n",
            "Epoch 5/10\n",
            "2504/2504 [==============================] - 16s 6ms/sample - loss: 0.2891 - acc: 0.9186 - val_loss: 0.2940 - val_acc: 0.9166\n",
            "Epoch 6/10\n",
            "2504/2504 [==============================] - 16s 6ms/sample - loss: 0.2808 - acc: 0.9190 - val_loss: 0.2869 - val_acc: 0.9184\n",
            "Epoch 7/10\n",
            "2504/2504 [==============================] - 16s 7ms/sample - loss: 0.2747 - acc: 0.9212 - val_loss: 0.2823 - val_acc: 0.9201\n",
            "Epoch 8/10\n",
            "2504/2504 [==============================] - 16s 6ms/sample - loss: 0.2699 - acc: 0.9230 - val_loss: 0.2777 - val_acc: 0.9208\n",
            "Epoch 9/10\n",
            "2504/2504 [==============================] - 16s 7ms/sample - loss: 0.2695 - acc: 0.9242 - val_loss: 0.2730 - val_acc: 0.9213\n",
            "Epoch 10/10\n",
            "2504/2504 [==============================] - 16s 6ms/sample - loss: 0.2607 - acc: 0.9262 - val_loss: 0.2697 - val_acc: 0.9267\n"
          ],
          "name": "stdout"
        },
        {
          "output_type": "execute_result",
          "data": {
            "text/plain": [
              "<tensorflow.python.keras.callbacks.History at 0x7fa847d66c18>"
            ]
          },
          "metadata": {
            "tags": []
          },
          "execution_count": 98
        }
      ]
    },
    {
      "cell_type": "code",
      "metadata": {
        "id": "QXwKGEH5jr3l",
        "colab_type": "code",
        "outputId": "e1ebc7cc-6725-4294-8f54-4989e9d8dc54",
        "colab": {
          "base_uri": "https://localhost:8080/",
          "height": 51
        }
      },
      "source": [
        "scores = model.evaluate(test_sentences_X, to_categorical(test_tags_y, len(tag2index)))\n",
        "print(f\"{model.metrics_names[1]}: {scores[1] * 100}\")   "
      ],
      "execution_count": 0,
      "outputs": [
        {
          "output_type": "stream",
          "text": [
            "783/783 [==============================] - 4s 5ms/sample - loss: 0.2791 - acc: 0.9241\n",
            "acc: 92.40549802780151\n"
          ],
          "name": "stdout"
        }
      ]
    },
    {
      "cell_type": "code",
      "metadata": {
        "id": "u_c4hqSonqIL",
        "colab_type": "code",
        "colab": {}
      },
      "source": [
        ""
      ],
      "execution_count": 0,
      "outputs": []
    }
  ]
}